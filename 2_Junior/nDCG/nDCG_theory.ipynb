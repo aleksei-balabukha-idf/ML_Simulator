{
 "cells": [
  {
   "attachments": {},
   "cell_type": "markdown",
   "metadata": {},
   "source": [
    "# nDCG (Normalized Discounted Cumulative Gain)  \n",
    "The theoretical part include information from [Wikipedia page on nDCG](https://en.wikipedia.org/wiki/Discounted_cumulative_gain) with additional Python code to illustrate computations"
   ]
  },
  {
   "attachments": {},
   "cell_type": "markdown",
   "metadata": {},
   "source": [
    "- Ranging - sorting documents in order of their relevance for specific question. In our case, question comes from students and documents are recommended videos  \n",
    "- Relevance - correspondence of recommended video to the students question. Further in this case, we will use Expert Evaluation from 0 to 10 as Relevance Metric"
   ]
  },
  {
   "attachments": {},
   "cell_type": "markdown",
   "metadata": {},
   "source": [
    "# nDCG (Normalized Discounted Cumulative Gain)  \n",
    "nDCG - popular metric in Ranging Tasks, which includes order of elements in the output.  \n",
    "We will introduce this metric step by step:"
   ]
  },
  {
   "attachments": {},
   "cell_type": "markdown",
   "metadata": {},
   "source": [
    "![](./pic/1.png)"
   ]
  },
  {
   "attachments": {},
   "cell_type": "markdown",
   "metadata": {},
   "source": [
    "2 assumptions are made in using DCG and its related measures:  \n",
    "1. Highly relevant documents are more useful when appearing earlier in a search engine result list (have higher ranks)\n",
    "2. Highly relevant documents are more useful than marginally relevant documents, which are in turn more useful than non-relevant documents."
   ]
  },
  {
   "attachments": {},
   "cell_type": "markdown",
   "metadata": {},
   "source": [
    "- Cumulative Gain (CG) - is sum of the graded relevance values of all results in a search result list. it does not include Rank (position) of a result in the list.  \n",
    "CG value is not affected by changes in the ordering of search results. That is problem of this metric"
   ]
  },
  {
   "attachments": {},
   "cell_type": "markdown",
   "metadata": {},
   "source": [
    "- Discounted Cumulative Gain - highly relevant documents appearing lower in a search result should be penalized as the graded relevance as the graded relevance is reduced logarithmically proportional to the position of the result."
   ]
  },
  {
   "attachments": {},
   "cell_type": "markdown",
   "metadata": {},
   "source": [
    "- Normalized DCG - Search result list vary in length depending on the query. Comparing a search engine's performance from one query to the next cannot be consistently achieved using DCG alone, so the cumulative gain at each position for a chosen value oof p should be normalized across queries.  \n",
    "This is done by sorting all relevant documents in the corpus by their relative relevance, producing the maximum possible DCG through position p, also called Ideal DCG through that position."
   ]
  },
  {
   "attachments": {},
   "cell_type": "markdown",
   "metadata": {},
   "source": [
    "### Example:  \n",
    "Presented with a list of documents in response to a search query, an experiment participant is asked to judge the relevance of each document to the query. Each document is to be judged on a scale of 0-3 with - meaning not relevant, 3 meaning highly relevant, and 1 and 2 meaning \"somewhere in between\".  \n",
    "For the documents ordered by the ranking algorithm as D1, D2 .. D6  \n",
    "the user provided the following relevance scores: 3, 2, 3, 0, 1, 2"
   ]
  },
  {
   "attachments": {},
   "cell_type": "markdown",
   "metadata": {},
   "source": [
    "That is: document 1 has relevance = 3 etc ... The CG (Cumulative Gain) of this search result:"
   ]
  },
  {
   "cell_type": "code",
   "execution_count": 82,
   "metadata": {},
   "outputs": [],
   "source": [
    "# libraries:\n",
    "import pandas as pd\n",
    "import numpy as np"
   ]
  },
  {
   "cell_type": "code",
   "execution_count": 83,
   "metadata": {},
   "outputs": [
    {
     "data": {
      "text/html": [
       "<div>\n",
       "<style scoped>\n",
       "    .dataframe tbody tr th:only-of-type {\n",
       "        vertical-align: middle;\n",
       "    }\n",
       "\n",
       "    .dataframe tbody tr th {\n",
       "        vertical-align: top;\n",
       "    }\n",
       "\n",
       "    .dataframe thead th {\n",
       "        text-align: right;\n",
       "    }\n",
       "</style>\n",
       "<table border=\"1\" class=\"dataframe\">\n",
       "  <thead>\n",
       "    <tr style=\"text-align: right;\">\n",
       "      <th></th>\n",
       "      <th>documents</th>\n",
       "      <th>relevance</th>\n",
       "      <th>order</th>\n",
       "    </tr>\n",
       "  </thead>\n",
       "  <tbody>\n",
       "    <tr>\n",
       "      <th>0</th>\n",
       "      <td>D1</td>\n",
       "      <td>3</td>\n",
       "      <td>1</td>\n",
       "    </tr>\n",
       "    <tr>\n",
       "      <th>1</th>\n",
       "      <td>D2</td>\n",
       "      <td>2</td>\n",
       "      <td>2</td>\n",
       "    </tr>\n",
       "    <tr>\n",
       "      <th>2</th>\n",
       "      <td>D3</td>\n",
       "      <td>3</td>\n",
       "      <td>3</td>\n",
       "    </tr>\n",
       "    <tr>\n",
       "      <th>3</th>\n",
       "      <td>D4</td>\n",
       "      <td>0</td>\n",
       "      <td>4</td>\n",
       "    </tr>\n",
       "    <tr>\n",
       "      <th>4</th>\n",
       "      <td>D5</td>\n",
       "      <td>1</td>\n",
       "      <td>5</td>\n",
       "    </tr>\n",
       "    <tr>\n",
       "      <th>5</th>\n",
       "      <td>D6</td>\n",
       "      <td>2</td>\n",
       "      <td>6</td>\n",
       "    </tr>\n",
       "  </tbody>\n",
       "</table>\n",
       "</div>"
      ],
      "text/plain": [
       "  documents  relevance  order\n",
       "0        D1          3      1\n",
       "1        D2          2      2\n",
       "2        D3          3      3\n",
       "3        D4          0      4\n",
       "4        D5          1      5\n",
       "5        D6          2      6"
      ]
     },
     "execution_count": 83,
     "metadata": {},
     "output_type": "execute_result"
    }
   ],
   "source": [
    "# example table:\n",
    "documents = ['D1', 'D2', 'D3', 'D4', 'D5', 'D6']\n",
    "relevances = [3, 2, 3, 0, 1, 2]\n",
    "orders = [1, 2, 3, 4, 5, 6]\n",
    "df_relev = pd.DataFrame({\n",
    "    'documents': documents,\n",
    "    'relevance': relevances,\n",
    "    'order': orders\n",
    "})\n",
    "df_relev"
   ]
  },
  {
   "cell_type": "code",
   "execution_count": 84,
   "metadata": {},
   "outputs": [
    {
     "name": "stdout",
     "output_type": "stream",
     "text": [
      "CG = 11\n"
     ]
    }
   ],
   "source": [
    "# CG:\n",
    "CG_value = df_relev['relevance'].sum()\n",
    "print(f'CG = {CG_value}')"
   ]
  },
  {
   "attachments": {},
   "cell_type": "markdown",
   "metadata": {},
   "source": [
    "we can see that changing the order of documents would not affect CG value."
   ]
  },
  {
   "attachments": {},
   "cell_type": "markdown",
   "metadata": {},
   "source": [
    "DCG is used to emphasize highly relevant documents appearing early in the result list. Using logarithmic scale for reduction, the DCG for each result in order is:"
   ]
  },
  {
   "cell_type": "code",
   "execution_count": 85,
   "metadata": {},
   "outputs": [
    {
     "data": {
      "text/html": [
       "<div>\n",
       "<style scoped>\n",
       "    .dataframe tbody tr th:only-of-type {\n",
       "        vertical-align: middle;\n",
       "    }\n",
       "\n",
       "    .dataframe tbody tr th {\n",
       "        vertical-align: top;\n",
       "    }\n",
       "\n",
       "    .dataframe thead th {\n",
       "        text-align: right;\n",
       "    }\n",
       "</style>\n",
       "<table border=\"1\" class=\"dataframe\">\n",
       "  <thead>\n",
       "    <tr style=\"text-align: right;\">\n",
       "      <th></th>\n",
       "      <th>documents</th>\n",
       "      <th>relevance</th>\n",
       "      <th>order</th>\n",
       "      <th>log2(i+1)</th>\n",
       "      <th>dcg</th>\n",
       "    </tr>\n",
       "  </thead>\n",
       "  <tbody>\n",
       "    <tr>\n",
       "      <th>0</th>\n",
       "      <td>D1</td>\n",
       "      <td>3</td>\n",
       "      <td>1</td>\n",
       "      <td>1.000000</td>\n",
       "      <td>3.000000</td>\n",
       "    </tr>\n",
       "    <tr>\n",
       "      <th>1</th>\n",
       "      <td>D2</td>\n",
       "      <td>2</td>\n",
       "      <td>2</td>\n",
       "      <td>1.584963</td>\n",
       "      <td>1.261860</td>\n",
       "    </tr>\n",
       "    <tr>\n",
       "      <th>2</th>\n",
       "      <td>D3</td>\n",
       "      <td>3</td>\n",
       "      <td>3</td>\n",
       "      <td>2.000000</td>\n",
       "      <td>1.500000</td>\n",
       "    </tr>\n",
       "    <tr>\n",
       "      <th>3</th>\n",
       "      <td>D4</td>\n",
       "      <td>0</td>\n",
       "      <td>4</td>\n",
       "      <td>2.321928</td>\n",
       "      <td>0.000000</td>\n",
       "    </tr>\n",
       "    <tr>\n",
       "      <th>4</th>\n",
       "      <td>D5</td>\n",
       "      <td>1</td>\n",
       "      <td>5</td>\n",
       "      <td>2.584963</td>\n",
       "      <td>0.386853</td>\n",
       "    </tr>\n",
       "    <tr>\n",
       "      <th>5</th>\n",
       "      <td>D6</td>\n",
       "      <td>2</td>\n",
       "      <td>6</td>\n",
       "      <td>2.807355</td>\n",
       "      <td>0.712414</td>\n",
       "    </tr>\n",
       "  </tbody>\n",
       "</table>\n",
       "</div>"
      ],
      "text/plain": [
       "  documents  relevance  order  log2(i+1)       dcg\n",
       "0        D1          3      1   1.000000  3.000000\n",
       "1        D2          2      2   1.584963  1.261860\n",
       "2        D3          3      3   2.000000  1.500000\n",
       "3        D4          0      4   2.321928  0.000000\n",
       "4        D5          1      5   2.584963  0.386853\n",
       "5        D6          2      6   2.807355  0.712414"
      ]
     },
     "execution_count": 85,
     "metadata": {},
     "output_type": "execute_result"
    }
   ],
   "source": [
    "df_relev['log2(i+1)'] = np.log2(df_relev['order'] + 1)\n",
    "df_relev['dcg'] = df_relev['relevance'] / df_relev['log2(i+1)']\n",
    "df_relev"
   ]
  },
  {
   "cell_type": "code",
   "execution_count": 86,
   "metadata": {},
   "outputs": [
    {
     "data": {
      "text/html": [
       "<div>\n",
       "<style scoped>\n",
       "    .dataframe tbody tr th:only-of-type {\n",
       "        vertical-align: middle;\n",
       "    }\n",
       "\n",
       "    .dataframe tbody tr th {\n",
       "        vertical-align: top;\n",
       "    }\n",
       "\n",
       "    .dataframe thead th {\n",
       "        text-align: right;\n",
       "    }\n",
       "</style>\n",
       "<table border=\"1\" class=\"dataframe\">\n",
       "  <thead>\n",
       "    <tr style=\"text-align: right;\">\n",
       "      <th></th>\n",
       "      <th>documents</th>\n",
       "      <th>relevance</th>\n",
       "      <th>order</th>\n",
       "      <th>log2(i+1)</th>\n",
       "      <th>dcg</th>\n",
       "      <th>DCG</th>\n",
       "    </tr>\n",
       "  </thead>\n",
       "  <tbody>\n",
       "    <tr>\n",
       "      <th>0</th>\n",
       "      <td>D1</td>\n",
       "      <td>3</td>\n",
       "      <td>1</td>\n",
       "      <td>1.000000</td>\n",
       "      <td>3.000000</td>\n",
       "      <td>3.000</td>\n",
       "    </tr>\n",
       "    <tr>\n",
       "      <th>1</th>\n",
       "      <td>D2</td>\n",
       "      <td>2</td>\n",
       "      <td>2</td>\n",
       "      <td>1.584963</td>\n",
       "      <td>1.261860</td>\n",
       "      <td>1.262</td>\n",
       "    </tr>\n",
       "    <tr>\n",
       "      <th>2</th>\n",
       "      <td>D3</td>\n",
       "      <td>3</td>\n",
       "      <td>3</td>\n",
       "      <td>2.000000</td>\n",
       "      <td>1.500000</td>\n",
       "      <td>1.500</td>\n",
       "    </tr>\n",
       "    <tr>\n",
       "      <th>3</th>\n",
       "      <td>D4</td>\n",
       "      <td>0</td>\n",
       "      <td>4</td>\n",
       "      <td>2.321928</td>\n",
       "      <td>0.000000</td>\n",
       "      <td>0.000</td>\n",
       "    </tr>\n",
       "    <tr>\n",
       "      <th>4</th>\n",
       "      <td>D5</td>\n",
       "      <td>1</td>\n",
       "      <td>5</td>\n",
       "      <td>2.584963</td>\n",
       "      <td>0.386853</td>\n",
       "      <td>0.387</td>\n",
       "    </tr>\n",
       "    <tr>\n",
       "      <th>5</th>\n",
       "      <td>D6</td>\n",
       "      <td>2</td>\n",
       "      <td>6</td>\n",
       "      <td>2.807355</td>\n",
       "      <td>0.712414</td>\n",
       "      <td>0.712</td>\n",
       "    </tr>\n",
       "  </tbody>\n",
       "</table>\n",
       "</div>"
      ],
      "text/plain": [
       "  documents  relevance  order  log2(i+1)       dcg    DCG\n",
       "0        D1          3      1   1.000000  3.000000  3.000\n",
       "1        D2          2      2   1.584963  1.261860  1.262\n",
       "2        D3          3      3   2.000000  1.500000  1.500\n",
       "3        D4          0      4   2.321928  0.000000  0.000\n",
       "4        D5          1      5   2.584963  0.386853  0.387\n",
       "5        D6          2      6   2.807355  0.712414  0.712"
      ]
     },
     "execution_count": 86,
     "metadata": {},
     "output_type": "execute_result"
    }
   ],
   "source": [
    "# by using function\n",
    "def dcg_i(relevance, order):\n",
    "    log_2_i_1 = np.log2(order + 1)\n",
    "    rel_1_div_log_2 = round(relevance / log_2_i_1, 3)\n",
    "    return rel_1_div_log_2\n",
    "\n",
    "df_relev['DCG'] = df_relev.apply(lambda row: dcg_i(\n",
    "    row['relevance'], \n",
    "    row['order']), axis = 1)\n",
    "\n",
    "df_relev"
   ]
  },
  {
   "cell_type": "code",
   "execution_count": 87,
   "metadata": {},
   "outputs": [
    {
     "data": {
      "text/plain": [
       "6.861000000000001"
      ]
     },
     "execution_count": 87,
     "metadata": {},
     "output_type": "execute_result"
    }
   ],
   "source": [
    "# DCG sum:\n",
    "DCG_6 = df_relev['DCG'].sum()\n",
    "DCG_6"
   ]
  },
  {
   "attachments": {},
   "cell_type": "markdown",
   "metadata": {},
   "source": [
    "now a switch D3 and D4 would result in a reduce DCG, because a less relevant document is placed higher in the ranking. Thank is a more relevant documnet is discounted more by being placed in a lower rank."
   ]
  },
  {
   "cell_type": "code",
   "execution_count": 88,
   "metadata": {},
   "outputs": [
    {
     "name": "stdout",
     "output_type": "stream",
     "text": [
      "DCG value new = 6.653156362813681\n"
     ]
    }
   ],
   "source": [
    "documents = ['D1', 'D2', 'D4', 'D3', 'D5', 'D6']  # D3 and D4 swapped\n",
    "relevances = [3, 2, 0, 3, 1, 2]   # relevances updated to match new document order\n",
    "\n",
    "df_relev_new = pd.DataFrame({\n",
    "    'documents': documents,\n",
    "    'relevance': relevances\n",
    "})\n",
    "\n",
    "df_relev_new['order'] = df_relev_new.index + 1\n",
    "df_relev_new['log2(i+1)'] = np.log2(df_relev_new['order'] + 1)\n",
    "df_relev_new['dcg'] = df_relev_new['relevance'] / df_relev_new['log2(i+1)']\n",
    "dcg_new = df_relev_new['dcg'].sum()\n",
    "print(f'DCG value new = {dcg_new}')"
   ]
  },
  {
   "attachments": {},
   "cell_type": "markdown",
   "metadata": {},
   "source": [
    "The performance of this query to another is incomparable in this form since the other query may have more results, resulting in a larger overall DCG which may not necessarily be better. In order to compare, the DCG values must be normalized.  "
   ]
  },
  {
   "attachments": {},
   "cell_type": "markdown",
   "metadata": {},
   "source": [
    "To normalize DCG values, an ideal ordering for the given query is needed. For this example, that ordering would be **monotonically decreasing** sort of all known relevance judgments. In addition to the 6 from this experiment, suppose we also know there is a document D7 with relevance = 3 to the same query and document D8 with relevance = 2.  \n",
    "The ideal ordering in that case would be:  "
   ]
  },
  {
   "cell_type": "code",
   "execution_count": 102,
   "metadata": {},
   "outputs": [
    {
     "data": {
      "text/plain": [
       "[3, 3, 3, 2, 2, 2, 1, 0]"
      ]
     },
     "execution_count": 102,
     "metadata": {},
     "output_type": "execute_result"
    }
   ],
   "source": [
    "# example table:\n",
    "documents = ['D1', 'D2', 'D3', 'D4', 'D5', 'D6', 'D7', 'D8']\n",
    "relevances = [3, 2, 3, 0, 1, 2, 3, 2]\n",
    "orders = [1, 2, 3, 4, 5, 6, 7, 9]\n",
    "df_relev_longer = pd.DataFrame({\n",
    "    'documents': documents,\n",
    "    'relevance': relevances,\n",
    "    'order': orders\n",
    "})\n",
    "\n",
    "ideal_ordering = list(df_relev_longer.sort_values(by='relevance', ascending=False)['relevance'])\n",
    "ideal_ordering"
   ]
  },
  {
   "attachments": {},
   "cell_type": "markdown",
   "metadata": {},
   "source": [
    "- Ideal Ranking - is cut again to length 6 to match the depth of analysis of the ranking"
   ]
  },
  {
   "cell_type": "code",
   "execution_count": 104,
   "metadata": {},
   "outputs": [
    {
     "data": {
      "text/plain": [
       "[3, 3, 3, 2, 2, 2]"
      ]
     },
     "execution_count": 104,
     "metadata": {},
     "output_type": "execute_result"
    }
   ],
   "source": [
    "df_cut = df_relev_longer[df_relev_longer['relevance'] >= 2]\n",
    "df_cut = df_cut.sort_values(by='relevance', ascending=False)\n",
    "ideal_ranking = list(df_cut['relevance'])\n",
    "ideal_ranking"
   ]
  },
  {
   "attachments": {},
   "cell_type": "markdown",
   "metadata": {},
   "source": [
    "The DCG of this ideal ordering (IDCG - ideal DCG) is computed to rank 6:"
   ]
  },
  {
   "cell_type": "code",
   "execution_count": 107,
   "metadata": {},
   "outputs": [
    {
     "name": "stdout",
     "output_type": "stream",
     "text": [
      "DCG value new = 8.740262365546284\n"
     ]
    }
   ],
   "source": [
    "df_cut\n",
    "df_cut['order'] = df_relev_new.index + 1\n",
    "df_cut['log2(i+1)'] = np.log2(df_cut['order'] + 1)\n",
    "df_cut['dcg'] = df_cut['relevance'] / df_cut['log2(i+1)']\n",
    "dcg_ideal = df_cut['dcg'].sum()\n",
    "print(f'DCG value new = {dcg_ideal}')"
   ]
  },
  {
   "attachments": {},
   "cell_type": "markdown",
   "metadata": {},
   "source": [
    "and so the nDCG = $\\frac{DCG6}{IDCG6} = \\frac{6.861}{8.740} = 0.785$"
   ]
  },
  {
   "cell_type": "code",
   "execution_count": 112,
   "metadata": {},
   "outputs": [
    {
     "name": "stdout",
     "output_type": "stream",
     "text": [
      "nDCG = 0.785\n"
     ]
    }
   ],
   "source": [
    "nDCG = round(DCG_6 / dcg_ideal, 3)\n",
    "print(f'nDCG = {nDCG}')"
   ]
  }
 ],
 "metadata": {
  "kernelspec": {
   "display_name": "Python 3",
   "language": "python",
   "name": "python3"
  },
  "language_info": {
   "codemirror_mode": {
    "name": "ipython",
    "version": 3
   },
   "file_extension": ".py",
   "mimetype": "text/x-python",
   "name": "python",
   "nbconvert_exporter": "python",
   "pygments_lexer": "ipython3",
   "version": "3.11.1"
  },
  "orig_nbformat": 4
 },
 "nbformat": 4,
 "nbformat_minor": 2
}
