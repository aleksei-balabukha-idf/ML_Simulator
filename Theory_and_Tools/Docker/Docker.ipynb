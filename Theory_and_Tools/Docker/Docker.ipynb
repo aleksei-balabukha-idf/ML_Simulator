{
 "cells": [
  {
   "cell_type": "markdown",
   "metadata": {},
   "source": [
    "[Docker Course](https://karpov.courses/docker?_gl=1*ui5w2d*_ga*NjgzNDEyNzg4LjE2NzkzODIyNTk.*_ga_DZP7KEXCQQ*MTY4MjY3Mzg4MC4xOS4xLjE2ODI2NzU3MjguMTQuMC4w)"
   ]
  },
  {
   "attachments": {},
   "cell_type": "markdown",
   "metadata": {},
   "source": [
    "# Layers  \n",
    "Docker file is created using special commands, which create Layers  \n",
    "Each Layer - is the number of changes, which are added to previous layer. When we run image, all images, starting from base and till the top are used to create Container"
   ]
  },
  {
   "attachments": {},
   "cell_type": "markdown",
   "metadata": {},
   "source": [
    "Order and number of Layers are important, since they influence on the size of the result image and speed of its creation."
   ]
  },
  {
   "attachments": {},
   "cell_type": "markdown",
   "metadata": {},
   "source": [
    "To increase speed of Image creation, it is recommended to have layers that are changing not so often - in the beginning of the file, and other which change more often - in the end.  "
   ]
  },
  {
   "attachments": {},
   "cell_type": "markdown",
   "metadata": {},
   "source": [
    "### FROM   \n",
    "FROM - indicates base Docker image, on base of which new Image will be created.   \n",
    "It is recommended to use small base image, to decrease the size of the result image"
   ]
  },
  {
   "attachments": {},
   "cell_type": "markdown",
   "metadata": {},
   "source": [
    "### COPY"
   ]
  },
  {
   "cell_type": "markdown",
   "metadata": {},
   "source": []
  }
 ],
 "metadata": {
  "language_info": {
   "name": "python"
  },
  "orig_nbformat": 4
 },
 "nbformat": 4,
 "nbformat_minor": 2
}
