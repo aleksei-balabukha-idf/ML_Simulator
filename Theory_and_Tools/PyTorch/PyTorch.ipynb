{
 "cells": [
  {
   "attachments": {},
   "cell_type": "markdown",
   "metadata": {},
   "source": [
    "# PyTorch  \n",
    "It is a Deep-Learning framework with open source code, which is used to optimize the parameters of computational graphs. "
   ]
  },
  {
   "attachments": {},
   "cell_type": "markdown",
   "metadata": {},
   "source": [
    "- Computational Graph - can be any mathematical function or ML model. Often such models are Neural Networks."
   ]
  },
  {
   "attachments": {},
   "cell_type": "markdown",
   "metadata": {},
   "source": [
    "### Main properties:  \n",
    "1. Calculate Gradients in dynamical graphs (structure of model can be changed during training) - allows more variety of options for model creation  \n",
    "2. Pytorch operates Tensors (torch.Tensor), analogy in Numpy - np.ndarray (objects). Therefore they are similar in functionality - often even name of functions are the same\n",
    "3. Any model can run on GPU, using small number of lines of code\n",
    "4. Popular in Industry, convenient in usage for prototyping and deploying models to production"
   ]
  },
  {
   "attachments": {},
   "cell_type": "markdown",
   "metadata": {},
   "source": [
    "## Examples of usage:"
   ]
  },
  {
   "cell_type": "code",
   "execution_count": 4,
   "metadata": {},
   "outputs": [
    {
     "data": {
      "text/plain": [
       "tensor([[ 0.0021,  0.4230],\n",
       "        [-0.7158, -0.3617],\n",
       "        [-2.0795, -0.4164]])"
      ]
     },
     "execution_count": 4,
     "metadata": {},
     "output_type": "execute_result"
    }
   ],
   "source": [
    "# import\n",
    "import torch\n",
    "\n",
    "# create a tensor with shape (3, 2) and random values:\n",
    "x = torch.randn((3, 2))\n",
    "x"
   ]
  },
  {
   "cell_type": "code",
   "execution_count": 5,
   "metadata": {},
   "outputs": [
    {
     "data": {
      "text/plain": [
       "tensor([[ 0.1789, -0.1545, -0.1805],\n",
       "        [-0.1545,  0.6432,  1.6392],\n",
       "        [-0.1805,  1.6392,  4.4976]])"
      ]
     },
     "execution_count": 5,
     "metadata": {},
     "output_type": "execute_result"
    }
   ],
   "source": [
    "# perform matrix multiplication:\n",
    "y = torch.mm(x, x.transpose(0, 1))\n",
    "y"
   ]
  },
  {
   "cell_type": "code",
   "execution_count": 6,
   "metadata": {},
   "outputs": [
    {
     "data": {
      "text/plain": [
       "array([[-0.65597522, -1.55934819],\n",
       "       [-0.12084307,  1.26710976],\n",
       "       [ 1.31397273,  0.44220098]])"
      ]
     },
     "execution_count": 6,
     "metadata": {},
     "output_type": "execute_result"
    }
   ],
   "source": [
    "# comparison with numpy code:\n",
    "import numpy as np\n",
    "\n",
    "# create an array with shape (3, 2) and random values:\n",
    "x = np.random.randn(3, 2)\n",
    "x"
   ]
  },
  {
   "cell_type": "code",
   "execution_count": 7,
   "metadata": {},
   "outputs": [
    {
     "data": {
      "text/plain": [
       "array([[ 2.86187029, -1.89659526, -1.55147886],\n",
       "       [-1.89659526,  1.6201702 ,  0.40153268],\n",
       "       [-1.55147886,  0.40153268,  1.92206605]])"
      ]
     },
     "execution_count": 7,
     "metadata": {},
     "output_type": "execute_result"
    }
   ],
   "source": [
    "y = np.dot(x, x.T)\n",
    "y"
   ]
  },
  {
   "attachments": {},
   "cell_type": "markdown",
   "metadata": {},
   "source": [
    "## Example of Linear regression"
   ]
  },
  {
   "cell_type": "code",
   "execution_count": 9,
   "metadata": {},
   "outputs": [
    {
     "name": "stdout",
     "output_type": "stream",
     "text": [
      "Epoch 100, Loss: 8.577387689001625e-07\n",
      "Epoch 200, Loss: 5.298166456668696e-07\n",
      "Epoch 300, Loss: 3.279890279372921e-07\n",
      "Epoch 400, Loss: 2.030388799312277e-07\n",
      "Epoch 500, Loss: 1.2583990383063792e-07\n",
      "Epoch 600, Loss: 7.797718382107632e-08\n",
      "Epoch 700, Loss: 4.823721155844396e-08\n",
      "Epoch 800, Loss: 3.007428617252117e-08\n",
      "Epoch 900, Loss: 1.8522408495869058e-08\n",
      "Epoch 1000, Loss: 1.1542188538271603e-08\n",
      "Predicted: tensor([1.9998, 4.0000, 6.0001]), Ground truth: tensor([2., 4., 6.])\n"
     ]
    }
   ],
   "source": [
    "# define model:\n",
    "class LinearRegression(torch.nn.Module):\n",
    "    def __init__(self):\n",
    "        super().__init__()\n",
    "        self.linear = torch.nn.Linear(1, 1)\n",
    "\n",
    "    def forward(self, x):\n",
    "        return self.linear(x)\n",
    "    \n",
    "# Instantiate the model:\n",
    "model = LinearRegression()\n",
    "\n",
    "# Define loss function and optimizer:\n",
    "criterion = torch.nn.MSELoss()\n",
    "optimizer = torch.optim.SGD(model.parameters(), lr=0.01)\n",
    "\n",
    "# Generate some fake data\n",
    "X = torch.tensor([[1.0], [2.0], [3.0]])\n",
    "y = torch.tensor([[2.0], [4.0], [6.0]])\n",
    "\n",
    "for epoch in range(1000):\n",
    "    # forward pass\n",
    "    y_pred = model(X)\n",
    "    loss = criterion(y_pred, y)\n",
    "\n",
    "    # backward pass and optimization\n",
    "    optimizer.zero_grad()\n",
    "    loss.backward()\n",
    "    optimizer.step()\n",
    "\n",
    "    if (epoch+1) % 100 == 0:\n",
    "        print(f'Epoch {epoch+1}, Loss: {loss.item()}')\n",
    "\n",
    "# test the model:\n",
    "with torch.no_grad():\n",
    "    y_pred = model(X)\n",
    "    print(f'Predicted: {y_pred.flatten()}, Ground truth: {y.flatten()}')"
   ]
  },
  {
   "cell_type": "code",
   "execution_count": null,
   "metadata": {},
   "outputs": [],
   "source": []
  }
 ],
 "metadata": {
  "kernelspec": {
   "display_name": "Python 3",
   "language": "python",
   "name": "python3"
  },
  "language_info": {
   "codemirror_mode": {
    "name": "ipython",
    "version": 3
   },
   "file_extension": ".py",
   "mimetype": "text/x-python",
   "name": "python",
   "nbconvert_exporter": "python",
   "pygments_lexer": "ipython3",
   "version": "3.11.3"
  },
  "orig_nbformat": 4
 },
 "nbformat": 4,
 "nbformat_minor": 2
}
