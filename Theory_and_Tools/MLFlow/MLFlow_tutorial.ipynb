{
 "cells": [
  {
   "attachments": {},
   "cell_type": "markdown",
   "metadata": {},
   "source": [
    "# ML Flow"
   ]
  },
  {
   "attachments": {},
   "cell_type": "markdown",
   "metadata": {},
   "source": [
    "All information and examples are based on article: https://www.run.ai/guides/machine-learning-operations/mlflow"
   ]
  },
  {
   "attachments": {},
   "cell_type": "markdown",
   "metadata": {},
   "source": [
    "## What is MLFlow"
   ]
  },
  {
   "attachments": {},
   "cell_type": "markdown",
   "metadata": {},
   "source": [
    "MLFlow - is an open source platform for managing ML workflows. MLFlow has 4 main components:\n",
    "- Tracking component - allows to record ML training sessions (runs) and run queries using Python and REST APIs.\n",
    "- The model component - provides a standard unit for packaging and reusing machine learning models.\n",
    "- The model registry component - lets you centrally manage models and their lifecycle.\n",
    "- The project component - packages code used in Data Science projects, ensuring it can easily be reused and experiments can be reproduced"
   ]
  },
  {
   "attachments": {},
   "cell_type": "markdown",
   "metadata": {},
   "source": [
    "There are 2 other key concepts in MLFlow:\n",
    "- A Run - is a collection of parameters, metrics, labels and artifacts related to the training process of a ML model.\n",
    "- An Experiment - is the basic unit of MLFlow organization. All MLflow runs belong to an experiment. For each experiment, you can analyze and compare the results of different runs, and easily retrieve metadata artifacts for analysis using downstream tools. Experiments are maintained on an MLFlow tracking server hosted onn Azure Databricks."
   ]
  },
  {
   "cell_type": "code",
   "execution_count": 3,
   "metadata": {},
   "outputs": [],
   "source": [
    "import mlflow\n",
    "import os\n"
   ]
  },
  {
   "cell_type": "code",
   "execution_count": 4,
   "metadata": {},
   "outputs": [],
   "source": [
    "import mlflow\n",
    "import os\n",
    "\n",
    "mlflow.set_tracking_uri(os.environ.get(\"https://mlflow.lab.karpov.courses/?_gl=1*17uh4az*_ga*NjgzNDEyNzg4LjE2NzkzODIyNTk.*_ga_DZP7KEXCQQ*MTY4MjY1Nzk5Ny4xNi4xLjE2ODI2NTgwMTIuNDUuMC4w#/experiments/12\"))\n"
   ]
  },
  {
   "attachments": {},
   "cell_type": "markdown",
   "metadata": {},
   "source": [
    "# What is MLOps?  \n",
    "It is DevOps in ML. Standards for training and other processes to increase efficiency of Data Teams (Tracking, versioning, deployment etc)  \n",
    "Problem - from 60-90% of results of Data Science is not in production  \n",
    "[MLOps Webinar](https://www.youtube.com/watch?v=1cI_bonO2Vo)"
   ]
  },
  {
   "attachments": {},
   "cell_type": "markdown",
   "metadata": {},
   "source": [
    "JypiterHub - multiusers Jypiter platform  - helps to solve tasks in Teams"
   ]
  },
  {
   "cell_type": "markdown",
   "metadata": {},
   "source": []
  }
 ],
 "metadata": {
  "kernelspec": {
   "display_name": "Python 3",
   "language": "python",
   "name": "python3"
  },
  "language_info": {
   "codemirror_mode": {
    "name": "ipython",
    "version": 3
   },
   "file_extension": ".py",
   "mimetype": "text/x-python",
   "name": "python",
   "nbconvert_exporter": "python",
   "pygments_lexer": "ipython3",
   "version": "3.11.3"
  },
  "orig_nbformat": 4
 },
 "nbformat": 4,
 "nbformat_minor": 2
}
