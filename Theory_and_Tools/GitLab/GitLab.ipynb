{
 "cells": [
  {
   "attachments": {},
   "cell_type": "markdown",
   "metadata": {},
   "source": [
    "# GitLab"
   ]
  },
  {
   "attachments": {},
   "cell_type": "markdown",
   "metadata": {},
   "source": [
    "GitLab - web platform for managing code and projects, based oon the Git version control system"
   ]
  },
  {
   "attachments": {},
   "cell_type": "markdown",
   "metadata": {},
   "source": [
    "It offers instruments for managing development, CI/CD, store code in cloud.  \n",
    "Alternatives: GitHub, BitBucket"
   ]
  },
  {
   "attachments": {},
   "cell_type": "markdown",
   "metadata": {},
   "source": [
    "# Connection"
   ]
  },
  {
   "attachments": {},
   "cell_type": "markdown",
   "metadata": {},
   "source": [
    "The most safe and convenient way to connect to GitLab - ssh connection  \n",
    "[GitLab Connection Instruction](https://git.lab.karpov.courses/help/ssh/index.md?_gl=1*1eygzue*_ga*NjgzNDEyNzg4LjE2NzkzODIyNTk.*_ga_DZP7KEXCQQ*MTY4MjY3Mzg4MC4xOS4xLjE2ODI2NzY3MjcuNTAuMC4w)"
   ]
  },
  {
   "cell_type": "markdown",
   "metadata": {},
   "source": []
  }
 ],
 "metadata": {
  "language_info": {
   "name": "python"
  },
  "orig_nbformat": 4
 },
 "nbformat": 4,
 "nbformat_minor": 2
}
