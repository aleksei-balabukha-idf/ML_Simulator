{
 "cells": [
  {
   "attachments": {},
   "cell_type": "markdown",
   "metadata": {},
   "source": [
    "# Churn Rate 2: Bootstrap"
   ]
  },
  {
   "attachments": {},
   "cell_type": "markdown",
   "metadata": {},
   "source": [
    "We are working in Online Learning platform and working on developing Churn Rate prediction model. We want to know which user have higher probability to leave our platform: starts to visit the website rarely, or he/she does not know about all programs available."
   ]
  },
  {
   "attachments": {},
   "cell_type": "markdown",
   "metadata": {},
   "source": [
    "We carefully study what problems our users have. We make interviews with users asking what they like in the platform and what can be added or fixed."
   ]
  },
  {
   "attachments": {},
   "cell_type": "markdown",
   "metadata": {},
   "source": [
    "In the Churn Rate part 1 task we completed data aquisition, features engineering and model development"
   ]
  },
  {
   "attachments": {},
   "cell_type": "markdown",
   "metadata": {},
   "source": [
    "In this task we will do advanced validation of the model and metrics calculations."
   ]
  },
  {
   "attachments": {},
   "cell_type": "markdown",
   "metadata": {},
   "source": [
    "# Boostrapped ROC-AUC"
   ]
  },
  {
   "attachments": {},
   "cell_type": "markdown",
   "metadata": {},
   "source": [
    "When we developed good (as we think) model - for example with ROC-AUC = 93%  \n",
    "We should also think: How we are sure in our evaluation?  \n",
    "How we can know that in nex month, when we again calculate metric, ROC-AUC will be 95% and not 76%?  \n",
    "We really want to know what to expect from the model.  "
   ]
  },
  {
   "attachments": {},
   "cell_type": "markdown",
   "metadata": {},
   "source": [
    "Obviously model performance will fluctuate, but in what extend?"
   ]
  },
  {
   "attachments": {},
   "cell_type": "markdown",
   "metadata": {},
   "source": [
    "To answer this question, we need to calculate lower and upper boundaries of the **Confidence Interval**"
   ]
  },
  {
   "attachments": {},
   "cell_type": "markdown",
   "metadata": {},
   "source": [
    "![](./pic/1.png)"
   ]
  },
  {
   "attachments": {},
   "cell_type": "markdown",
   "metadata": {},
   "source": [
    "Every metric (and ROC-AUC is not an exclusion) - is a statistics, which depends on dataset on which we calculate it.  \n",
    "In our task - our dataset is our users, which we include in our test dataset.  \n",
    "With time our users change their behavior and therefore features are also changing."
   ]
  },
  {
   "attachments": {},
   "cell_type": "markdown",
   "metadata": {},
   "source": [
    "## Confidence Intervals  \n",
    "- 95% Confidence Interval - values diapason of some statistical measure in 95% of cases. Usually, centered interval is considered. Therefore, on the left side and on the right side will be 2.5% of the values which are not included in Confidence Interval.\n",
    "- Confidence Bounds - bounds of confidence intervals\n",
    "- LCB (Lower Confidence Bound) - lower boundary of the confidence interval\n",
    "- UCB (Upper Confidence Bound) - upper boundary of the confidence interval"
   ]
  },
  {
   "attachments": {},
   "cell_type": "markdown",
   "metadata": {},
   "source": [
    "How we can calculate Confidence Interval for ROC-AUC?"
   ]
  },
  {
   "cell_type": "markdown",
   "metadata": {},
   "source": []
  }
 ],
 "metadata": {
  "language_info": {
   "name": "python"
  },
  "orig_nbformat": 4
 },
 "nbformat": 4,
 "nbformat_minor": 2
}
