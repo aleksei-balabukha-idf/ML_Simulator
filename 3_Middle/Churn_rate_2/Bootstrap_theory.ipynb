{
 "cells": [
  {
   "attachments": {},
   "cell_type": "markdown",
   "metadata": {},
   "source": [
    "# Boostrap"
   ]
  },
  {
   "attachments": {},
   "cell_type": "markdown",
   "metadata": {},
   "source": [
    "All materials are taken from article (in Russian): https://habr.com/ru/companies/X5Tech/articles/679842/"
   ]
  },
  {
   "attachments": {},
   "cell_type": "markdown",
   "metadata": {},
   "source": [
    "Here we will consider how with use of Bootstrap we can evaluate Standard Deviation, Build Confidence Intervals and Test Hypothesis.  \n",
    "We will see when Bootstrap is irreplaceable and what disadvantages it has."
   ]
  },
  {
   "attachments": {},
   "cell_type": "markdown",
   "metadata": {},
   "source": [
    "# Metrics and their accuracy:"
   ]
  },
  {
   "attachments": {},
   "cell_type": "markdown",
   "metadata": {},
   "source": [
    "Imaging that we analyze data of deliveries from Online Shop.  \n",
    "We want to understand how good our delivery is. We have data on delivery time for each order. Therefore, we can choose metric and evaluate it.  \n",
    "Assume that we work with independent equally distributed random variables."
   ]
  },
  {
   "attachments": {},
   "cell_type": "markdown",
   "metadata": {},
   "source": [
    "The most intuitive metric in such case - Average Time of delivery.  \n",
    "To calculate Average time we can take all orders in some period of time, for example in last month and calculate average delivery time."
   ]
  },
  {
   "attachments": {},
   "cell_type": "markdown",
   "metadata": {},
   "source": [
    "Assume that we calculate this metric = 90 minutes.  \n",
    "In what extend we can trust this value? Obviously, it can not be True value on all future deliveries. In next month we can get different value.  \n",
    "Therefore, it is important to evaluate Standard Deviation to understand how accurate is evaluation: 90+-1 minute is very different from 90+-30 minutes."
   ]
  },
  {
   "attachments": {},
   "cell_type": "markdown",
   "metadata": {},
   "source": [
    "![](./pic/4.png)"
   ]
  },
  {
   "attachments": {},
   "cell_type": "markdown",
   "metadata": {},
   "source": [
    "where n - size of subset, Xi - random number of delivery time, $X^-$ - mean of delivery time for subset"
   ]
  },
  {
   "attachments": {},
   "cell_type": "markdown",
   "metadata": {},
   "source": [
    "Example Mean and SD (Standard Deviation):  \n",
    "- dataset of 1000 deliveries\n",
    "- distribution will be generated using Normal distribution function (in real life case distribution can be not normal):\n",
    "    - mean = 90\n",
    "    - standard deviation = 20"
   ]
  },
  {
   "cell_type": "code",
   "execution_count": 13,
   "metadata": {},
   "outputs": [],
   "source": [
    "import pandas as pd\n",
    "import numpy as np\n",
    "\n",
    "from matplotlib import pyplot as plt\n",
    "import seaborn as sns"
   ]
  },
  {
   "cell_type": "code",
   "execution_count": 11,
   "metadata": {},
   "outputs": [
    {
     "name": "stdout",
     "output_type": "stream",
     "text": [
      "Mean = 89.25\n",
      "STD = 0.64\n"
     ]
    }
   ],
   "source": [
    "import numpy as np\n",
    "\n",
    "n = 1000\n",
    "values = np.random.normal(90, 20, n)\n",
    "mean = values.mean()\n",
    "std = values.std() / np.sqrt(n)\n",
    "print(f'Mean = {mean:0.2f}')\n",
    "print(f'STD = {std:0.2f}')"
   ]
  },
  {
   "attachments": {},
   "cell_type": "markdown",
   "metadata": {},
   "source": [
    "in that example, number of values was enough to make SD less than 1 minute"
   ]
  },
  {
   "attachments": {},
   "cell_type": "markdown",
   "metadata": {},
   "source": [
    "# Quantiles"
   ]
  },
  {
   "attachments": {},
   "cell_type": "markdown",
   "metadata": {},
   "source": [
    "We have evaluated Average time of delivery. It gives us some idea about current situation, but it is only one number. Some people get their deliveries fast others - slow.  \n",
    "We want our clients to fill happy, therefore we want to make sure that the majority of clients get their deliveries fast enough."
   ]
  },
  {
   "attachments": {},
   "cell_type": "markdown",
   "metadata": {},
   "source": [
    "We can evaluate how fast Majority of orders are delivered, for example using 90% quantile.  \n",
    "What is the physical sense of quantile? If 90% quantile = 2 hours, it means that 90% of orders are delivered in 2 hours."
   ]
  },
  {
   "cell_type": "code",
   "execution_count": 83,
   "metadata": {},
   "outputs": [
    {
     "data": {
      "image/png": "[encoded data removed]",
      "text/plain": [
       "<Figure size 640x480 with 1 Axes>"
      ]
     },
     "metadata": {},
     "output_type": "display_data"
    }
   ],
   "source": [
    "def interval_formating(time_group):\n",
    "    time_group = str(time_group).split(',')[1].replace(' ', '').replace(']', '')\n",
    "    upper_limit = round(float(time_group))\n",
    "    return upper_limit\n",
    "\n",
    "df = pd.DataFrame(values, columns=['time'])\n",
    "df['time_group'] = pd.cut(df['time'], 20)\n",
    "df['delivery_time'] = df['time_group'].apply(lambda x: interval_formating(x))\n",
    "df_agg = df.groupby('delivery_time', as_index=False).agg(\n",
    "    frequency=('time', 'count')\n",
    ")\n",
    "quantile_90 = round(df['time'].quantile(q=0.9))\n",
    "above_or_below_quantile = ['red' if x > quantile_90 else 'lightblue' for x in df_agg['delivery_time']]\n",
    "\n",
    "sns.barplot(data=df_agg, x='delivery_time', y='frequency', palette=above_or_below_quantile)\n",
    "plt.xticks(rotation=45)\n",
    "plt.title(f'90% quantile = {quantile_90}')\n",
    "plt.show()"
   ]
  },
  {
   "attachments": {},
   "cell_type": "markdown",
   "metadata": {},
   "source": [
    "We can easily assess 90% quantile base on data, but how evaluate Standard Deviation of produced result?"
   ]
  },
  {
   "attachments": {},
   "cell_type": "markdown",
   "metadata": {},
   "source": [
    "It would be great if we had 100 parallel worlds from where we can get data :), we would calculate 100 different quantiles, evaluate standard deviation."
   ]
  },
  {
   "attachments": {},
   "cell_type": "markdown",
   "metadata": {},
   "source": [
    "Someone can advice us to split our data of 1000 observations into 10 pieces of 100 in each. In each part we can calculate value of Quantile and evaluate Standard Deviation based on these 10 subsets.  \n",
    "This approach is Missleading, since Standard Deviation depends on number of observations - the more data we have the more accurate evaluation we produce."
   ]
  },
  {
   "attachments": {},
   "cell_type": "markdown",
   "metadata": {},
   "source": [
    "What we can do?  \n",
    "Fortunately, there is method, which allows to evaluate Standard Deviation of some statistical value (Boostrap)."
   ]
  },
  {
   "attachments": {},
   "cell_type": "markdown",
   "metadata": {},
   "source": [
    "# Bootstrap"
   ]
  },
  {
   "attachments": {},
   "cell_type": "markdown",
   "metadata": {},
   "source": [
    "It is a method of Standard Deviation evaluation and determination of Confidence Intervals."
   ]
  },
  {
   "attachments": {},
   "cell_type": "markdown",
   "metadata": {},
   "source": [
    "In the following example we will consider calculation of Standard Deviation of 90% quantile."
   ]
  },
  {
   "attachments": {},
   "cell_type": "markdown",
   "metadata": {},
   "source": [
    "If we had access to the General Dataset (all deliveries in future), we could get 100 subset from there and calculate 100 Quantiles and evaluate Standard Deviation.  \n",
    "We do not have Real Distribution, however, we can evaluate it based on the data available."
   ]
  },
  {
   "attachments": {},
   "cell_type": "markdown",
   "metadata": {},
   "source": [
    "As an estimate of Distribution function, we will use the Empirical Distribution Function (EDF). EDF - is an unbiased estimator and converges to the tru DF as the sample size increases."
   ]
  },
  {
   "attachments": {},
   "cell_type": "markdown",
   "metadata": {},
   "source": [
    "### Definition of DF and EDF"
   ]
  },
  {
   "attachments": {},
   "cell_type": "markdown",
   "metadata": {},
   "source": [
    "- Distribution Function (DF) of the random value X - is Function (Fx) Fx(x) = P(X < x)\n",
    "- Empirical Distribution Function (EDF) - distribution function on the subset  \n",
    "EDF - is DF of discrete random value if elements of subset are independent and equally distributed. If we give weight 1/n to each element of subset, we will have EDF"
   ]
  },
  {
   "attachments": {},
   "cell_type": "markdown",
   "metadata": {},
   "source": [
    "Let's see how EDF looks like on dta of different size from Normal distribution:"
   ]
  },
  {
   "cell_type": "code",
   "execution_count": null,
   "metadata": {},
   "outputs": [],
   "source": [
    "from scipy import stats\n",
    "\n",
    "def plot_ecdf(values, label, xlim):\n",
    "    \"\"\"build EDF graph\"\"\"\n",
    "    X_ = sorted(set(values))\n",
    "    Y_ = [np.mean(values <= x) for x in X_]\n",
    "    X = [xlim[0]] + sum([[v, v] for v in X_], []) + [xlim[1]]\n",
    "    Y = [0, 0] + sum([[v, v] for v in Y_], [])\n",
    "    plt.plot(X, Y, label=label)"
   ]
  }
 ],
 "metadata": {
  "kernelspec": {
   "display_name": "Python 3",
   "language": "python",
   "name": "python3"
  },
  "language_info": {
   "codemirror_mode": {
    "name": "ipython",
    "version": 3
   },
   "file_extension": ".py",
   "mimetype": "text/x-python",
   "name": "python",
   "nbconvert_exporter": "python",
   "pygments_lexer": "ipython3",
   "version": "3.11.3"
  },
  "orig_nbformat": 4
 },
 "nbformat": 4,
 "nbformat_minor": 2
}
