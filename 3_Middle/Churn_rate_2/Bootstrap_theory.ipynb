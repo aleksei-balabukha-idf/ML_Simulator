{
 "cells": [
  {
   "attachments": {},
   "cell_type": "markdown",
   "metadata": {},
   "source": [
    "# Boostrap"
   ]
  },
  {
   "attachments": {},
   "cell_type": "markdown",
   "metadata": {},
   "source": [
    "All materials are taken from article (in Russian): https://habr.com/ru/companies/X5Tech/articles/679842/"
   ]
  },
  {
   "attachments": {},
   "cell_type": "markdown",
   "metadata": {},
   "source": [
    "Here we will consider how with use of Bootstrap we can evaluate Standard Deviation, Build Confidence Intervals and Test Hypothesis.  \n",
    "We will see when Bootstrap is irreplaceable and what disadvantages it has."
   ]
  },
  {
   "attachments": {},
   "cell_type": "markdown",
   "metadata": {},
   "source": [
    "# Metrics and their accuracy:"
   ]
  },
  {
   "attachments": {},
   "cell_type": "markdown",
   "metadata": {},
   "source": [
    "Imaging that we analyze data of deliveries from Online Shop.  \n",
    "We want to understand how good our delivery is. We have data on delivery time for each order. Therefore, we can choose metric and evaluate it.  \n",
    "Assume that we work with independent equally distributed random variables."
   ]
  },
  {
   "attachments": {},
   "cell_type": "markdown",
   "metadata": {},
   "source": [
    "The most intuitive metric in such case - Average Time of delivery.  \n",
    "To calculate Average time we can take all orders in some period of time, for example in last month and calculate average delivery time."
   ]
  },
  {
   "attachments": {},
   "cell_type": "markdown",
   "metadata": {},
   "source": [
    "Assume that we calculate this metric = 90 minutes.  \n",
    "In what extend we can trust this value? Obviously, it can not be True value on all future deliveries. In next month we can get different value.  \n",
    "Therefore, it is important to evaluate Standard Deviation to understand how accurate is evaluation: 90+-1 minute is very different from 90+-30 minutes."
   ]
  },
  {
   "attachments": {},
   "cell_type": "markdown",
   "metadata": {},
   "source": [
    "![](./pic/4.png)"
   ]
  },
  {
   "attachments": {},
   "cell_type": "markdown",
   "metadata": {},
   "source": [
    "where n - size of subset, Xi - random number of delivery time, $X^-$ - mean of delivery time for subset"
   ]
  },
  {
   "attachments": {},
   "cell_type": "markdown",
   "metadata": {},
   "source": [
    "Example Mean and SD (Standard Deviation):  \n",
    "- dataset of 1000 deliveries\n",
    "- distribution will be generated using Normal distribution function (in real life case distribution can be not normal):\n",
    "    - mean = 90\n",
    "    - standard deviation = 20"
   ]
  },
  {
   "cell_type": "code",
   "execution_count": 2,
   "metadata": {},
   "outputs": [],
   "source": [
    "import pandas as pd\n",
    "import numpy as np\n",
    "\n",
    "from matplotlib import pyplot as plt\n",
    "import seaborn as sns"
   ]
  },
  {
   "cell_type": "code",
   "execution_count": 3,
   "metadata": {},
   "outputs": [
    {
     "name": "stdout",
     "output_type": "stream",
     "text": [
      "Mean = 90.07\n",
      "STD = 0.64\n"
     ]
    }
   ],
   "source": [
    "import numpy as np\n",
    "\n",
    "n = 1000\n",
    "values = np.random.normal(90, 20, n)\n",
    "mean = values.mean()\n",
    "std = values.std() / np.sqrt(n)\n",
    "print(f'Mean = {mean:0.2f}')\n",
    "print(f'STD = {std:0.2f}')"
   ]
  },
  {
   "attachments": {},
   "cell_type": "markdown",
   "metadata": {},
   "source": [
    "in that example, number of values was enough to make SD less than 1 minute"
   ]
  },
  {
   "attachments": {},
   "cell_type": "markdown",
   "metadata": {},
   "source": [
    "# Quantiles"
   ]
  },
  {
   "attachments": {},
   "cell_type": "markdown",
   "metadata": {},
   "source": [
    "We have evaluated Average time of delivery. It gives us some idea about current situation, but it is only one number. Some people get their deliveries fast others - slow.  \n",
    "We want our clients to fill happy, therefore we want to make sure that the majority of clients get their deliveries fast enough."
   ]
  },
  {
   "attachments": {},
   "cell_type": "markdown",
   "metadata": {},
   "source": [
    "We can evaluate how fast Majority of orders are delivered, for example using 90% quantile.  \n",
    "What is the physical sense of quantile? If 90% quantile = 2 hours, it means that 90% of orders are delivered in 2 hours."
   ]
  },
  {
   "cell_type": "code",
   "execution_count": 4,
   "metadata": {},
   "outputs": [
    {
     "data": {
      "image/png": "[encoded data removed]",
      "text/plain": [
       "<Figure size 640x480 with 1 Axes>"
      ]
     },
     "metadata": {},
     "output_type": "display_data"
    }
   ],
   "source": [
    "def interval_formating(time_group):\n",
    "    time_group = str(time_group).split(',')[1].replace(' ', '').replace(']', '')\n",
    "    upper_limit = round(float(time_group))\n",
    "    return upper_limit\n",
    "\n",
    "df = pd.DataFrame(values, columns=['time'])\n",
    "df['time_group'] = pd.cut(df['time'], 20)\n",
    "df['delivery_time'] = df['time_group'].apply(lambda x: interval_formating(x))\n",
    "df_agg = df.groupby('delivery_time', as_index=False).agg(\n",
    "    frequency=('time', 'count')\n",
    ")\n",
    "quantile_90 = round(df['time'].quantile(q=0.9))\n",
    "above_or_below_quantile = ['red' if x > quantile_90 else 'lightblue' for x in df_agg['delivery_time']]\n",
    "\n",
    "sns.barplot(data=df_agg, x='delivery_time', y='frequency', palette=above_or_below_quantile)\n",
    "plt.xticks(rotation=45)\n",
    "plt.title(f'90% quantile = {quantile_90}')\n",
    "plt.show()"
   ]
  },
  {
   "attachments": {},
   "cell_type": "markdown",
   "metadata": {},
   "source": [
    "We can easily assess 90% quantile base on data, but how evaluate Standard Deviation of produced result?"
   ]
  },
  {
   "attachments": {},
   "cell_type": "markdown",
   "metadata": {},
   "source": [
    "It would be great if we had 100 parallel worlds from where we can get data :), we would calculate 100 different quantiles, evaluate standard deviation."
   ]
  },
  {
   "attachments": {},
   "cell_type": "markdown",
   "metadata": {},
   "source": [
    "Someone can advice us to split our data of 1000 observations into 10 pieces of 100 in each. In each part we can calculate value of Quantile and evaluate Standard Deviation based on these 10 subsets.  \n",
    "This approach is Missleading, since Standard Deviation depends on number of observations - the more data we have the more accurate evaluation we produce."
   ]
  },
  {
   "attachments": {},
   "cell_type": "markdown",
   "metadata": {},
   "source": [
    "What we can do?  \n",
    "Fortunately, there is method, which allows to evaluate Standard Deviation of some statistical value (Boostrap)."
   ]
  },
  {
   "attachments": {},
   "cell_type": "markdown",
   "metadata": {},
   "source": [
    "# Bootstrap"
   ]
  },
  {
   "attachments": {},
   "cell_type": "markdown",
   "metadata": {},
   "source": [
    "It is a method of Standard Deviation evaluation and determination of Confidence Intervals."
   ]
  },
  {
   "attachments": {},
   "cell_type": "markdown",
   "metadata": {},
   "source": [
    "In the following example we will consider calculation of Standard Deviation of 90% quantile."
   ]
  },
  {
   "attachments": {},
   "cell_type": "markdown",
   "metadata": {},
   "source": [
    "If we had access to the General Dataset (all deliveries in future), we could get 100 subset from there and calculate 100 Quantiles and evaluate Standard Deviation.  \n",
    "We do not have Real Distribution, however, we can evaluate it based on the data available."
   ]
  },
  {
   "attachments": {},
   "cell_type": "markdown",
   "metadata": {},
   "source": [
    "As an estimate of Distribution function, we will use the Empirical Distribution Function (EDF). EDF - is an unbiased estimator and converges to the tru DF as the sample size increases."
   ]
  },
  {
   "attachments": {},
   "cell_type": "markdown",
   "metadata": {},
   "source": [
    "### Definition of DF and EDF"
   ]
  },
  {
   "attachments": {},
   "cell_type": "markdown",
   "metadata": {},
   "source": [
    "- Distribution Function (DF) of the random value X - is Function (Fx) Fx(x) = P(X < x). It is Probability that random value X will be less then x, where x - some random value\n",
    "- Empirical Distribution Function (EDF) - distribution function on the subset  \n",
    "EDF - is DF of discrete random value if elements of subset are independent and equally distributed. If we give weight 1/n to each element of subset, we will have EDF"
   ]
  },
  {
   "attachments": {},
   "cell_type": "markdown",
   "metadata": {},
   "source": [
    "Let's see how EDF looks like on dta of different size from Normal distribution:"
   ]
  },
  {
   "cell_type": "code",
   "execution_count": 5,
   "metadata": {},
   "outputs": [],
   "source": [
    "from scipy import stats\n",
    "\n",
    "def plot_ecdf(values, label, xlim):\n",
    "    \"\"\"build EDF graph\"\"\"\n",
    "    X_ = sorted(set(values))\n",
    "    Y_ = [np.mean(values <= x) for x in X_]\n",
    "    X = [xlim[0]] + sum([[v, v] for v in X_], []) + [xlim[1]]\n",
    "    Y = [0, 0] + sum([[v, v] for v in Y_], [])\n",
    "    plt.plot(X, Y, label=label)"
   ]
  },
  {
   "cell_type": "code",
   "execution_count": 6,
   "metadata": {},
   "outputs": [
    {
     "data": {
      "image/png": "[encoded data removed]",
      "text/plain": [
       "<Figure size 640x480 with 1 Axes>"
      ]
     },
     "metadata": {},
     "output_type": "display_data"
    }
   ],
   "source": [
    "# generate data fir EDF:\n",
    "for size in [20, 200]:\n",
    "    values = np.random.normal(size=size)\n",
    "    # plot EDF:\n",
    "    plot_ecdf(values, f'EDF for size = {size}', [-3, 3])\n",
    "\n",
    "# generate data for DF:\n",
    "X = np.linspace(-3, 3, 1000)\n",
    "Y = stats.norm.cdf(X)\n",
    "# vis:\n",
    "plt.plot(X, Y, '--', color='k', label='DF') # DF\n",
    "plt.title('DF and EDF of standard normal distribution')\n",
    "plt.xlabel('x')\n",
    "plt.ylabel('Probability')\n",
    "plt.legend()\n",
    "plt.show()"
   ]
  },
  {
   "attachments": {},
   "cell_type": "markdown",
   "metadata": {},
   "source": [
    "From the graph we can see:\n",
    "- with increase in size of subset, EDF is better representing DF. If we increase the size of the subset to several thousands, it will be difficult to visually distinguish EDF from DF."
   ]
  },
  {
   "attachments": {},
   "cell_type": "markdown",
   "metadata": {},
   "source": [
    "Therefore, since we know that EDF is good approximation of DF we can try to get subsets from EDF. How can we do that?"
   ]
  },
  {
   "attachments": {},
   "cell_type": "markdown",
   "metadata": {},
   "source": [
    "Generating subset of size *n* from EDF - it the same as randomly pick *n* elements from General Dataset.  \n",
    "Let's do this in code:"
   ]
  },
  {
   "cell_type": "code",
   "execution_count": 7,
   "metadata": {},
   "outputs": [],
   "source": [
    "subset = np.random.choice(values, size=n, replace=True)"
   ]
  },
  {
   "attachments": {},
   "cell_type": "markdown",
   "metadata": {},
   "source": [
    "Now we can evaluate SD of 90% quantile evaluation. For this purpose, we will 1000 time generate subsets from EDF. Then calculate the quantile value for each subset and then evaluate Standard Deviation."
   ]
  },
  {
   "cell_type": "code",
   "execution_count": 8,
   "metadata": {},
   "outputs": [
    {
     "name": "stdout",
     "output_type": "stream",
     "text": [
      "90% quantile = 115.71\n",
      "std for 90% quantile = 0.93\n"
     ]
    }
   ],
   "source": [
    "n = 1000 # size of the initial subset\n",
    "B = 1000 # number of generations of subsets\n",
    "\n",
    "values = np.random.normal(90, 20, n) # 90 - mean, 20 - SD\n",
    "quantile = np.quantile(values, 0.9)\n",
    "bootstrap_quantiles = []\n",
    "for _ in range(B):\n",
    "    bootstrap_values = np.random.choice(values, n, True)\n",
    "    quantile_iter = np.quantile(bootstrap_values, 0.9)\n",
    "    bootstrap_quantiles.append(quantile_iter)\n",
    "std = np.std(bootstrap_quantiles)\n",
    "print(f'90% quantile = {quantile:0.2f}')\n",
    "print(f'std for 90% quantile = {std:0.2f}')"
   ]
  },
  {
   "attachments": {},
   "cell_type": "markdown",
   "metadata": {},
   "source": [
    "Here we applied Bootstrap for evaluation of standard deviation of 90% quantile."
   ]
  },
  {
   "attachments": {},
   "cell_type": "markdown",
   "metadata": {},
   "source": [
    "It is worth mention:\n",
    "- To ensure that SD is not displaced, it is important to generate subsets of the same size as size of the initial subset\n",
    "- Number of iterations for Bootstrapping is recommended in the range 1000 - 10 000. This is usually enough to get enough accurate results."
   ]
  },
  {
   "attachments": {},
   "cell_type": "markdown",
   "metadata": {},
   "source": [
    "# Confidence Intervals  "
   ]
  },
  {
   "attachments": {},
   "cell_type": "markdown",
   "metadata": {},
   "source": [
    "Now we can evaluate SD of statistical measure. By knowing SD we can intuitively understand how reliable our evaluation is.  \n",
    "For more accurate results we can build Confidence Intervals."
   ]
  },
  {
   "attachments": {},
   "cell_type": "markdown",
   "metadata": {},
   "source": [
    "- Confidence Interval - covers evaluated parameter with the required probability."
   ]
  },
  {
   "attachments": {},
   "cell_type": "markdown",
   "metadata": {},
   "source": [
    "probability here: if we conducted experiment many times, in average for 95% confidence interval - in 95% of experiments evaluated parameter would be inside of confidence interval"
   ]
  },
  {
   "attachments": {},
   "cell_type": "markdown",
   "metadata": {},
   "source": [
    "Let's come back to the example of delivery from Online Shop.   \n",
    "In this example we will consider 95% of confidence interval."
   ]
  },
  {
   "attachments": {},
   "cell_type": "markdown",
   "metadata": {},
   "source": [
    "If there is a big amount of data, then independently from the distribution of initial data (assuming that there is dispersion) by the Central Limit Theorem average delivery time will be distributed Normally.  \n",
    "For normally distributed statistics Confidence Interval can be calculated as follows:"
   ]
  },
  {
   "attachments": {},
   "cell_type": "markdown",
   "metadata": {},
   "source": [
    "![](./pic/5.png)"
   ]
  },
  {
   "attachments": {},
   "cell_type": "markdown",
   "metadata": {},
   "source": [
    "where z1-a/2 - quantile of standard normal distribution, a - level of significance.  \n",
    "for 95% confidence interval - level of significance = 0.05"
   ]
  },
  {
   "cell_type": "markdown",
   "metadata": {},
   "source": [
    "![](./pic/6.png)"
   ]
  },
  {
   "attachments": {},
   "cell_type": "markdown",
   "metadata": {},
   "source": [
    "To build Confidence Intervals quantiles we will use Bootstrap.  \n",
    "There are 3 ways to build confidence intervals using Bootstrap:"
   ]
  },
  {
   "attachments": {},
   "cell_type": "markdown",
   "metadata": {},
   "source": [
    "1. Similarly like we built Confidence interval for mean:\n",
    "    - Evaluate quantile by initial data\n",
    "    - Using Bootstrap evaluate SD for quantile\n",
    "    - Calculate Confidence Interval by formula:"
   ]
  },
  {
   "attachments": {},
   "cell_type": "markdown",
   "metadata": {},
   "source": [
    "![](./pic/7.png)"
   ]
  },
  {
   "attachments": {},
   "cell_type": "markdown",
   "metadata": {},
   "source": [
    "where PE - point estimation"
   ]
  },
  {
   "attachments": {},
   "cell_type": "markdown",
   "metadata": {},
   "source": [
    "Such Confidence Interval is called - **\"Normal Confidence Interval\"**"
   ]
  },
  {
   "attachments": {},
   "cell_type": "markdown",
   "metadata": {},
   "source": [
    "Normal Confidence Interval is great tool for Statistics which distribution is close to Normal."
   ]
  },
  {
   "attachments": {},
   "cell_type": "markdown",
   "metadata": {},
   "source": [
    "2. If distribution of statistics is not symmetrical, Normal Confidence Interval can give strange results (border of Confidence Interval is below the border of distribution).  \n",
    "![](./pic/8.png)"
   ]
  },
  {
   "attachments": {},
   "cell_type": "markdown",
   "metadata": {},
   "source": [
    "in case of not symmetrical distributions we can use **Percentile Confidence Interval**.  \n",
    "To build Percentile Confidence Interval we need to cut a/2 of distribution area from each side. For 95% CI we need to cut 2.5% from each side."
   ]
  },
  {
   "attachments": {},
   "cell_type": "markdown",
   "metadata": {},
   "source": [
    "On practice to calculate CI we need to evaluate quantiles: q(a/2) and q(1-a/2) using statistics from Bootstrap."
   ]
  },
  {
   "attachments": {},
   "cell_type": "markdown",
   "metadata": {},
   "source": [
    "![](./pic/9.png)"
   ]
  },
  {
   "attachments": {},
   "cell_type": "markdown",
   "metadata": {},
   "source": [
    "3. **Central Confidence Interval** - its borders:  \n",
    "![](./pic/10.png)"
   ]
  },
  {
   "attachments": {},
   "cell_type": "markdown",
   "metadata": {},
   "source": [
    "![](./pic/11.png)"
   ]
  },
  {
   "attachments": {},
   "cell_type": "markdown",
   "metadata": {},
   "source": [
    "Centered CI for log normal distribution is moved to the size with 0 density. It can be interpreted like desire to take insurance for case if we have not full information about distribution and there can be values."
   ]
  },
  {
   "cell_type": "code",
   "execution_count": 9,
   "metadata": {},
   "outputs": [],
   "source": [
    "def get_normal_ci(bootstrap_stats, pe, alpha):\n",
    "    \"\"\"build normal confidence interval\"\"\"\n",
    "    z = stats.norm.ppf(1 - alpha/2)\n",
    "    se = np.std(bootstrap_stats)\n",
    "    left = pe - z * se\n",
    "    right = pe + z * se\n",
    "    return left, right\n",
    "\n",
    "def get_percentile_ci(bootstrap_stats, pe, alpha):\n",
    "    \"\"\"build percentile confidence interval\"\"\"\n",
    "    left = np.quantile(bootstrap_stats, alpha/2)\n",
    "    right = np.quantile(bootstrap_stats, 1 - alpha/2)\n",
    "    return left, right\n",
    "\n",
    "def get_pivotal_ci(bootstrap_stats, pe, alpha):\n",
    "    \"\"\"build pivotal confidence interval\"\"\"\n",
    "    left = 2 * pe - np.quantile(bootstrap_stats, 1 - alpha/2)\n",
    "    right = 2 * pe - np.quantile(bootstrap_stats, alpha/2)\n",
    "    return left, right"
   ]
  },
  {
   "cell_type": "code",
   "execution_count": 10,
   "metadata": {},
   "outputs": [
    {
     "name": "stdout",
     "output_type": "stream",
     "text": [
      "normal CI: (113.64047840248575, 118.00509372064245)\n",
      "percentile CI: (113.60848466274258, 118.09432880090867)\n",
      "pivotal CI: (113.55124332221953, 118.03708746038562)\n"
     ]
    }
   ],
   "source": [
    "n = 1000\n",
    "B = 10000\n",
    "alpha = 0.05\n",
    "values = np.random.normal(90, 20, n)\n",
    "quantile = np.quantile(values, 0.9)\n",
    "bootstrap_subsets = np.random.choice(values, (B, n), True)\n",
    "bootstrap_quantiles = np.quantile(bootstrap_subsets, 0.9, axis=1)\n",
    "\n",
    "# normal confidence interval:\n",
    "normal_ci = get_normal_ci(bootstrap_quantiles, quantile, alpha)\n",
    "print(f'normal CI: {normal_ci}')\n",
    "# percentile confidence interval:\n",
    "percentile_ci = get_percentile_ci(bootstrap_quantiles, quantile, alpha)\n",
    "print(f'percentile CI: {percentile_ci}')\n",
    "# pivotal confidence interval:\n",
    "pivotal_ci = get_pivotal_ci(bootstrap_quantiles, quantile, alpha)\n",
    "print(f'pivotal CI: {pivotal_ci}')"
   ]
  },
  {
   "cell_type": "code",
   "execution_count": 11,
   "metadata": {},
   "outputs": [
    {
     "data": {
      "image/png": "[encoded data removed]",
      "text/plain": [
       "<Figure size 640x480 with 1 Axes>"
      ]
     },
     "metadata": {},
     "output_type": "display_data"
    }
   ],
   "source": [
    "sns.kdeplot(bootstrap_quantiles, label='kde statistic')\n",
    "plt.plot([quantile], [0], 'o', c='k', markersize=6, label='PE')\n",
    "plt.plot([109, 120], [0, 0], 'k', linewidth=1) # x bottom line\n",
    "d = 0.02 # margin between CI lines\n",
    "# CI lines:\n",
    "plt.plot(normal_ci, [-d, -d], label='normal CI')\n",
    "plt.plot(percentile_ci, [-d*2, -d*2], label='percentile CI')\n",
    "plt.plot(pivotal_ci, [-d*3, -d*3], label='pivotal CI')\n",
    "\n",
    "plt.title('CI for 90% quantiles')\n",
    "plt.legend()\n",
    "plt.show()"
   ]
  },
  {
   "attachments": {},
   "cell_type": "markdown",
   "metadata": {},
   "source": [
    "# Bootstrap and A/B testing:"
   ]
  },
  {
   "attachments": {},
   "cell_type": "markdown",
   "metadata": {},
   "source": [
    "Now we can build Confidence Intervals.  \n",
    "Using CI we can not only produce additional information about studied metrics but also Test Statistical Hypothesis."
   ]
  },
  {
   "attachments": {},
   "cell_type": "markdown",
   "metadata": {},
   "source": [
    "To test hypothesis that quantiles are equal in level of importance = 5%, it is enough to build 95% confidence intercal for difference of quantiles between groups.   \n",
    "If Zero is outside of the confidence interval, therefore differences statistically significant otherwise not."
   ]
  },
  {
   "attachments": {},
   "cell_type": "markdown",
   "metadata": {},
   "source": [
    "t - statistical measure  \n",
    "t = 0 - Null Hypothesis  \n",
    "t != 0 - Alternative Hypothesis"
   ]
  },
  {
   "attachments": {},
   "cell_type": "markdown",
   "metadata": {},
   "source": [
    "![](./pic/12.png)"
   ]
  },
  {
   "attachments": {},
   "cell_type": "markdown",
   "metadata": {},
   "source": [
    "Algorithm of testing hypothesis that 2 statistics are equal (using Bootstrap):\n",
    "1. Generate 2 subsets of the same size like Control and Experimental groups\n",
    "2. Calculate metrics for each group\n",
    "3. Calculate differences between metrics, store results\n",
    "4. Repeat steps 1-3 from 1000 to 10000 times\n",
    "5. Build Confidence Interval with required level of significance\n",
    "6. If 0 does not belong to the confidence interval, therefore differences are statistically significant, otherwise they are not"
   ]
  },
  {
   "attachments": {},
   "cell_type": "markdown",
   "metadata": {},
   "source": [
    "Let's see how this algorithm can be implemented.  \n",
    "Note: For experimental group we will reduce Dispersion, which will result in decrease of 90% quantile."
   ]
  },
  {
   "cell_type": "code",
   "execution_count": 25,
   "metadata": {},
   "outputs": [
    {
     "name": "stdout",
     "output_type": "stream",
     "text": [
      "90% quantile = -7.66\n",
      "95.0% Confidence Interval: -10.13, -4.19\n",
      "Differences are statistically significant: True\n"
     ]
    }
   ],
   "source": [
    "n = 1000\n",
    "B = 10000\n",
    "alpha = 0.05\n",
    "\n",
    "values_a = np.random.normal(90, 20, n)\n",
    "values_b = np.random.normal(90, 15, n) # experimental group with lower dispersion\n",
    "\n",
    "pe = np.quantile(values_b, 0.9) - np.quantile(values_a, 0.9)\n",
    "bootstrap_values_a = np.random.choice(values_a, (B, n), True)\n",
    "bootstrap_values_b = np.random.choice(values_b, (B, n), True)\n",
    "bootstrap_metrics_a = np.quantile(bootstrap_values_a, 0.9, axis=1)\n",
    "bootstrap_metrics_b = np.quantile(bootstrap_values_b, 0.9, axis=1)\n",
    "bootstrap_stats = bootstrap_metrics_b - bootstrap_metrics_a\n",
    "ci = get_percentile_ci(bootstrap_stats, pe, alpha)\n",
    "has_effect = not (ci[0] < 0 < ci[1])\n",
    "\n",
    "print(f'90% quantile = {pe:0.2f}')\n",
    "print(f'{(1 - alpha) * 100}% Confidence Interval: {ci[0]:0.2f}, {ci[1]:0.2f}')\n",
    "print(f'Differences are statistically significant: {has_effect}')"
   ]
  },
  {
   "attachments": {},
   "cell_type": "markdown",
   "metadata": {},
   "source": [
    "As the result we see that differences in 90% quantile in 2 groups are statistically significant."
   ]
  },
  {
   "attachments": {},
   "cell_type": "markdown",
   "metadata": {},
   "source": [
    "# Bootstrap Limitations"
   ]
  },
  {
   "attachments": {},
   "cell_type": "markdown",
   "metadata": {},
   "source": [
    "Bootstrap is universal method. It is very useful for CI building and testing hypothesis of not trivial metrics.    \n",
    "But it also has disadvantages:\n",
    "- Main disadvantage - slow speed. Calculations are computationally expensive. It can be felt when amount of data is significant, then Bootstrap application can take hours and longer."
   ]
  },
  {
   "attachments": {},
   "cell_type": "markdown",
   "metadata": {},
   "source": [
    "- In all previous examples we assumed that we deal with independent equally distributed random variables. In such cases for generating subsets we could simply pick random values from initial dataset. But if data are dependent and have complex nature, then for generating subsets it is important to consider this. Otherwise, evaluation of statistics distribution would badly explain Real Distribution."
   ]
  },
  {
   "attachments": {},
   "cell_type": "markdown",
   "metadata": {},
   "source": [
    "- Data quality is important - if data are corrupted and not representative, therefore Bootstrap will give misleading results"
   ]
  },
  {
   "cell_type": "markdown",
   "metadata": {},
   "source": []
  }
 ],
 "metadata": {
  "kernelspec": {
   "display_name": "Python 3",
   "language": "python",
   "name": "python3"
  },
  "language_info": {
   "codemirror_mode": {
    "name": "ipython",
    "version": 3
   },
   "file_extension": ".py",
   "mimetype": "text/x-python",
   "name": "python",
   "nbconvert_exporter": "python",
   "pygments_lexer": "ipython3",
   "version": "3.11.3"
  },
  "orig_nbformat": 4
 },
 "nbformat": 4,
 "nbformat_minor": 2
}
