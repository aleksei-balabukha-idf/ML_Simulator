{
 "cells": [
  {
   "attachments": {},
   "cell_type": "markdown",
   "metadata": {},
   "source": [
    "# Churn Rate 2: Bootstrap"
   ]
  },
  {
   "attachments": {},
   "cell_type": "markdown",
   "metadata": {},
   "source": [
    "We are working in Online Learning platform and working on developing Churn Rate prediction model. We want to know which user have higher probability to leave our platform: starts to visit the website rarely, or he/she does not know about all programs available."
   ]
  },
  {
   "attachments": {},
   "cell_type": "markdown",
   "metadata": {},
   "source": [
    "We carefully study what problems our users have. We make interviews with users asking what they like in the platform and what can be added or fixed."
   ]
  },
  {
   "attachments": {},
   "cell_type": "markdown",
   "metadata": {},
   "source": [
    "In the Churn Rate part 1 task we completed data aquisition, features engineering and model development"
   ]
  },
  {
   "attachments": {},
   "cell_type": "markdown",
   "metadata": {},
   "source": [
    "In this task we will do advanced validation of the model and metrics calculations."
   ]
  },
  {
   "attachments": {},
   "cell_type": "markdown",
   "metadata": {},
   "source": [
    "# Boostrapped ROC-AUC"
   ]
  },
  {
   "attachments": {},
   "cell_type": "markdown",
   "metadata": {},
   "source": [
    "When we developed good (as we think) model - for example with ROC-AUC = 93%  \n",
    "We should also think: How we are sure in our evaluation?  \n",
    "How we can know that in nex month, when we again calculate metric, ROC-AUC will be 95% and not 76%?  \n",
    "We really want to know what to expect from the model.  "
   ]
  },
  {
   "attachments": {},
   "cell_type": "markdown",
   "metadata": {},
   "source": [
    "Obviously model performance will fluctuate, but in what extend?"
   ]
  },
  {
   "attachments": {},
   "cell_type": "markdown",
   "metadata": {},
   "source": [
    "To answer this question, we need to calculate lower and upper boundaries of the **Confidence Interval**"
   ]
  },
  {
   "attachments": {},
   "cell_type": "markdown",
   "metadata": {},
   "source": [
    "![](./pic/1.png)"
   ]
  },
  {
   "attachments": {},
   "cell_type": "markdown",
   "metadata": {},
   "source": [
    "Every metric (and ROC-AUC is not an exclusion) - is a statistics, which depends on dataset on which we calculate it.  \n",
    "In our task - our dataset is our users, which we include in our test dataset.  \n",
    "With time our users change their behavior and therefore features are also changing."
   ]
  },
  {
   "attachments": {},
   "cell_type": "markdown",
   "metadata": {},
   "source": [
    "## Confidence Intervals  \n",
    "- 95% Confidence Interval - values diapason of some statistical measure in 95% of cases. Usually, centered interval is considered. Therefore, on the left side and on the right side will be 2.5% of the values which are not included in Confidence Interval.\n",
    "- Confidence Bounds - bounds of confidence intervals\n",
    "- LCB (Lower Confidence Bound) - lower boundary of the confidence interval\n",
    "- UCB (Upper Confidence Bound) - upper boundary of the confidence interval"
   ]
  },
  {
   "attachments": {},
   "cell_type": "markdown",
   "metadata": {},
   "source": [
    "How we can calculate Confidence Interval for ROC-AUC?"
   ]
  },
  {
   "attachments": {},
   "cell_type": "markdown",
   "metadata": {},
   "source": [
    "Imagine: you remember only formulas for Normal distribution, but how we can implement them to our task?  \n",
    "You start Google: \"How to calculate Confidence Interval for ROC-AUC\". Find some scary looking formulas and do not understand what is happening there :)  \n",
    "![](./pic/2.png)"
   ]
  },
  {
   "attachments": {},
   "cell_type": "markdown",
   "metadata": {},
   "source": [
    "Calm down, there is one secret key, how we can start doing this task:"
   ]
  },
  {
   "attachments": {},
   "cell_type": "markdown",
   "metadata": {},
   "source": [
    "# Empirical distribution function:  \n",
    "Our general dataset - all users in every moment in future. Ideally, we would simply generate subsets from this general dataset, calculate ROC-AUC on each of them, take Quantiles, which represent LCB and UCB."
   ]
  },
  {
   "attachments": {},
   "cell_type": "markdown",
   "metadata": {},
   "source": [
    "Unfortunately, we do not have access to the general dataset.  \n",
    "We have only one subset of data on which we can build only empirical distribution function.  \n",
    "We can take subset and generate 10 000 speudo subsets."
   ]
  },
  {
   "attachments": {},
   "cell_type": "markdown",
   "metadata": {},
   "source": [
    "# Bootstrap"
   ]
  },
  {
   "attachments": {},
   "cell_type": "markdown",
   "metadata": {},
   "source": [
    "This method is called \"Bootstrap\" - it allows us based on our subset imitate generation of other similar subsets. In suits our goal of calculating Confidence Interval for ROC-AUC metrics."
   ]
  },
  {
   "attachments": {},
   "cell_type": "markdown",
   "metadata": {},
   "source": [
    "![](./pic/3.png)"
   ]
  },
  {
   "attachments": {},
   "cell_type": "markdown",
   "metadata": {},
   "source": [
    "we need to create python function for evaluating Confidence Interval for ROC-AUC by bootstrap.  \n",
    "- inputs:\n",
    "    - trained classifier (from sklearn library),\n",
    "    - test subset (X, y), \n",
    "    - size of confidence interval and\n",
    "    - number of boostrap subsets\n",
    "- result - Confidence Interval for ROC-AUC"
   ]
  },
  {
   "cell_type": "code",
   "execution_count": 1,
   "metadata": {},
   "outputs": [],
   "source": [
    "import pandas as pd"
   ]
  },
  {
   "cell_type": "code",
   "execution_count": 2,
   "metadata": {},
   "outputs": [],
   "source": [
    "# function:\n",
    "from typing import Tuple\n",
    "\n",
    "import numpy as np\n",
    "from sklearn.base import ClassifierMixin\n",
    "from sklearn.metrics import roc_auc_score\n",
    "\n",
    "def get_percentile_ci(bootstrap_stats, alpha):\n",
    "    \"\"\"build percentile confidence interval\"\"\"\n",
    "    left = np.quantile(bootstrap_stats, alpha/2)\n",
    "    right = np.quantile(bootstrap_stats, 1 - alpha/2)\n",
    "    return left, right\n",
    "\n",
    "\n",
    "def roc_auc_ci(\n",
    "    classifier: ClassifierMixin,\n",
    "    X: np.ndarray,\n",
    "    y: np.ndarray,\n",
    "    conf: float = 0.95,\n",
    "    n_bootstraps: int = 10_000,\n",
    ") -> Tuple[float, float]:\n",
    "    \"\"\"Returns confidence bounds of the ROC-AUC\"\"\"\n",
    "    # number of records:\n",
    "    n = len(X)\n",
    "    # confidence interval size:\n",
    "    conf = 0.95\n",
    "    alpha = 1 - conf\n",
    "    # Point Estimation:\n",
    "    pe = roc_auc_score(y, classifier.predict_proba(X)[:, 1])\n",
    "    # generate random subset from initial data n_bootstraps times:\n",
    "    bootstrap_subsets = []\n",
    "    for i in range(n_bootstraps):\n",
    "        random_indices = np.random.choice(n, size=n, replace=False)\n",
    "        subset = X[random_indices, :]\n",
    "        bootstrap_subsets.append(subset)\n",
    "    # calculate roc_auc_score n_bootstraps times\n",
    "    bootstrap_scores = []\n",
    "    for X_test_iter in bootstrap_subsets:\n",
    "        score_iter = roc_auc_score(y, classifier.predict_proba(X_test_iter)[:, 1])\n",
    "        bootstrap_scores.append(score_iter)\n",
    "    # calculate percentile confidence interval:\n",
    "    percentile_ci = get_percentile_ci(bootstrap_scores, pe, alpha)\n",
    "    lcb = percentile_ci[0]\n",
    "    ucb = percentile_ci[1]\n",
    "\n",
    "    return (lcb, ucb)"
   ]
  },
  {
   "cell_type": "code",
   "execution_count": 3,
   "metadata": {},
   "outputs": [],
   "source": [
    "from sklearn.datasets import load_breast_cancer\n",
    "from sklearn.linear_model import LogisticRegression\n",
    "from sklearn.metrics import roc_auc_score\n",
    "X, y = load_breast_cancer(return_X_y=True)"
   ]
  },
  {
   "cell_type": "code",
   "execution_count": 4,
   "metadata": {},
   "outputs": [
    {
     "data": {
      "text/plain": [
       "357"
      ]
     },
     "execution_count": 4,
     "metadata": {},
     "output_type": "execute_result"
    }
   ],
   "source": [
    "sum(y == 1)"
   ]
  },
  {
   "cell_type": "code",
   "execution_count": 5,
   "metadata": {},
   "outputs": [
    {
     "data": {
      "text/plain": [
       "569"
      ]
     },
     "execution_count": 5,
     "metadata": {},
     "output_type": "execute_result"
    }
   ],
   "source": [
    "len(y)"
   ]
  },
  {
   "cell_type": "code",
   "execution_count": 6,
   "metadata": {},
   "outputs": [],
   "source": [
    "# add\n",
    "classifier = LogisticRegression(solver=\"liblinear\", random_state=0).fit(X, y)\n",
    "n_bootstraps = 10_000\n",
    "\n",
    "# number of records:\n",
    "n = len(X)\n",
    "# confidence interval size:\n",
    "conf = 0.95\n",
    "alpha = 1 - conf\n",
    "# generate random subset from initial data n_bootstraps times:\n",
    "bootstrap_scores = []\n",
    "random_indices_list = list(np.random.choice(np.arange(0, n), (n_bootstraps, n), True))\n",
    "for random_indices in random_indices_list:\n",
    "    X_subset = X[random_indices, :]\n",
    "    y_subset = y[random_indices]\n",
    "    # calculate roc_auc_score n_bootstraps times\n",
    "    if len(set(y_subset)) < 2: # otherwise roc_auc is not determined\n",
    "        pass\n",
    "    else:\n",
    "        score_iter = roc_auc_score(y_subset, classifier.predict_proba(X_subset)[:, 1])\n",
    "        bootstrap_scores.append(score_iter)\n",
    "# calculate percentile confidence interval:\n",
    "intervals = []\n",
    "for i in range(100):\n",
    "    conf = i / 100\n",
    "    alpha = 1 - conf\n",
    "    percentile_ci = get_percentile_ci(bootstrap_scores, alpha)\n",
    "    lcb = percentile_ci[0]\n",
    "    ucb = percentile_ci[1]\n",
    "    diff = ucb - lcb\n",
    "    intervals.append((conf, diff))"
   ]
  },
  {
   "cell_type": "code",
   "execution_count": 7,
   "metadata": {},
   "outputs": [
    {
     "data": {
      "text/html": [
       "<div>\n",
       "<style scoped>\n",
       "    .dataframe tbody tr th:only-of-type {\n",
       "        vertical-align: middle;\n",
       "    }\n",
       "\n",
       "    .dataframe tbody tr th {\n",
       "        vertical-align: top;\n",
       "    }\n",
       "\n",
       "    .dataframe thead th {\n",
       "        text-align: right;\n",
       "    }\n",
       "</style>\n",
       "<table border=\"1\" class=\"dataframe\">\n",
       "  <thead>\n",
       "    <tr style=\"text-align: right;\">\n",
       "      <th></th>\n",
       "      <th>conf</th>\n",
       "      <th>diff</th>\n",
       "    </tr>\n",
       "  </thead>\n",
       "  <tbody>\n",
       "    <tr>\n",
       "      <th>0</th>\n",
       "      <td>0.00</td>\n",
       "      <td>0.000000</td>\n",
       "    </tr>\n",
       "    <tr>\n",
       "      <th>1</th>\n",
       "      <td>0.01</td>\n",
       "      <td>0.000043</td>\n",
       "    </tr>\n",
       "    <tr>\n",
       "      <th>2</th>\n",
       "      <td>0.02</td>\n",
       "      <td>0.000086</td>\n",
       "    </tr>\n",
       "    <tr>\n",
       "      <th>3</th>\n",
       "      <td>0.03</td>\n",
       "      <td>0.000139</td>\n",
       "    </tr>\n",
       "    <tr>\n",
       "      <th>4</th>\n",
       "      <td>0.04</td>\n",
       "      <td>0.000188</td>\n",
       "    </tr>\n",
       "    <tr>\n",
       "      <th>...</th>\n",
       "      <td>...</td>\n",
       "      <td>...</td>\n",
       "    </tr>\n",
       "    <tr>\n",
       "      <th>95</th>\n",
       "      <td>0.95</td>\n",
       "      <td>0.007237</td>\n",
       "    </tr>\n",
       "    <tr>\n",
       "      <th>96</th>\n",
       "      <td>0.96</td>\n",
       "      <td>0.007545</td>\n",
       "    </tr>\n",
       "    <tr>\n",
       "      <th>97</th>\n",
       "      <td>0.97</td>\n",
       "      <td>0.007904</td>\n",
       "    </tr>\n",
       "    <tr>\n",
       "      <th>98</th>\n",
       "      <td>0.98</td>\n",
       "      <td>0.008389</td>\n",
       "    </tr>\n",
       "    <tr>\n",
       "      <th>99</th>\n",
       "      <td>0.99</td>\n",
       "      <td>0.009492</td>\n",
       "    </tr>\n",
       "  </tbody>\n",
       "</table>\n",
       "<p>100 rows × 2 columns</p>\n",
       "</div>"
      ],
      "text/plain": [
       "    conf      diff\n",
       "0   0.00  0.000000\n",
       "1   0.01  0.000043\n",
       "2   0.02  0.000086\n",
       "3   0.03  0.000139\n",
       "4   0.04  0.000188\n",
       "..   ...       ...\n",
       "95  0.95  0.007237\n",
       "96  0.96  0.007545\n",
       "97  0.97  0.007904\n",
       "98  0.98  0.008389\n",
       "99  0.99  0.009492\n",
       "\n",
       "[100 rows x 2 columns]"
      ]
     },
     "execution_count": 7,
     "metadata": {},
     "output_type": "execute_result"
    }
   ],
   "source": [
    "df_plot = pd.DataFrame(intervals, columns=['conf', 'diff'])\n",
    "df_plot"
   ]
  },
  {
   "cell_type": "code",
   "execution_count": 8,
   "metadata": {},
   "outputs": [
    {
     "data": {
      "text/plain": [
       "<AxesSubplot: xlabel='conf', ylabel='diff'>"
      ]
     },
     "execution_count": 8,
     "metadata": {},
     "output_type": "execute_result"
    },
    {
     "data": {
      "image/png": "[encoded data removed]",
      "text/plain": [
       "<Figure size 640x480 with 1 Axes>"
      ]
     },
     "metadata": {},
     "output_type": "display_data"
    }
   ],
   "source": [
    "import seaborn as sns\n",
    "sns.lineplot(data=df_plot, x='conf', y='diff')"
   ]
  },
  {
   "cell_type": "code",
   "execution_count": 9,
   "metadata": {},
   "outputs": [
    {
     "data": {
      "text/html": [
       "<div>\n",
       "<style scoped>\n",
       "    .dataframe tbody tr th:only-of-type {\n",
       "        vertical-align: middle;\n",
       "    }\n",
       "\n",
       "    .dataframe tbody tr th {\n",
       "        vertical-align: top;\n",
       "    }\n",
       "\n",
       "    .dataframe thead th {\n",
       "        text-align: right;\n",
       "    }\n",
       "</style>\n",
       "<table border=\"1\" class=\"dataframe\">\n",
       "  <thead>\n",
       "    <tr style=\"text-align: right;\">\n",
       "      <th></th>\n",
       "      <th>Time</th>\n",
       "      <th>V1</th>\n",
       "      <th>V2</th>\n",
       "      <th>V3</th>\n",
       "      <th>V4</th>\n",
       "      <th>V5</th>\n",
       "      <th>V6</th>\n",
       "      <th>V7</th>\n",
       "      <th>V8</th>\n",
       "      <th>V9</th>\n",
       "      <th>...</th>\n",
       "      <th>V21</th>\n",
       "      <th>V22</th>\n",
       "      <th>V23</th>\n",
       "      <th>V24</th>\n",
       "      <th>V25</th>\n",
       "      <th>V26</th>\n",
       "      <th>V27</th>\n",
       "      <th>V28</th>\n",
       "      <th>Amount</th>\n",
       "      <th>Class</th>\n",
       "    </tr>\n",
       "  </thead>\n",
       "  <tbody>\n",
       "    <tr>\n",
       "      <th>0</th>\n",
       "      <td>0.0</td>\n",
       "      <td>-1.359807</td>\n",
       "      <td>-0.072781</td>\n",
       "      <td>2.536347</td>\n",
       "      <td>1.378155</td>\n",
       "      <td>-0.338321</td>\n",
       "      <td>0.462388</td>\n",
       "      <td>0.239599</td>\n",
       "      <td>0.098698</td>\n",
       "      <td>0.363787</td>\n",
       "      <td>...</td>\n",
       "      <td>-0.018307</td>\n",
       "      <td>0.277838</td>\n",
       "      <td>-0.110474</td>\n",
       "      <td>0.066928</td>\n",
       "      <td>0.128539</td>\n",
       "      <td>-0.189115</td>\n",
       "      <td>0.133558</td>\n",
       "      <td>-0.021053</td>\n",
       "      <td>149.62</td>\n",
       "      <td>0</td>\n",
       "    </tr>\n",
       "    <tr>\n",
       "      <th>1</th>\n",
       "      <td>0.0</td>\n",
       "      <td>1.191857</td>\n",
       "      <td>0.266151</td>\n",
       "      <td>0.166480</td>\n",
       "      <td>0.448154</td>\n",
       "      <td>0.060018</td>\n",
       "      <td>-0.082361</td>\n",
       "      <td>-0.078803</td>\n",
       "      <td>0.085102</td>\n",
       "      <td>-0.255425</td>\n",
       "      <td>...</td>\n",
       "      <td>-0.225775</td>\n",
       "      <td>-0.638672</td>\n",
       "      <td>0.101288</td>\n",
       "      <td>-0.339846</td>\n",
       "      <td>0.167170</td>\n",
       "      <td>0.125895</td>\n",
       "      <td>-0.008983</td>\n",
       "      <td>0.014724</td>\n",
       "      <td>2.69</td>\n",
       "      <td>0</td>\n",
       "    </tr>\n",
       "    <tr>\n",
       "      <th>2</th>\n",
       "      <td>1.0</td>\n",
       "      <td>-1.358354</td>\n",
       "      <td>-1.340163</td>\n",
       "      <td>1.773209</td>\n",
       "      <td>0.379780</td>\n",
       "      <td>-0.503198</td>\n",
       "      <td>1.800499</td>\n",
       "      <td>0.791461</td>\n",
       "      <td>0.247676</td>\n",
       "      <td>-1.514654</td>\n",
       "      <td>...</td>\n",
       "      <td>0.247998</td>\n",
       "      <td>0.771679</td>\n",
       "      <td>0.909412</td>\n",
       "      <td>-0.689281</td>\n",
       "      <td>-0.327642</td>\n",
       "      <td>-0.139097</td>\n",
       "      <td>-0.055353</td>\n",
       "      <td>-0.059752</td>\n",
       "      <td>378.66</td>\n",
       "      <td>0</td>\n",
       "    </tr>\n",
       "    <tr>\n",
       "      <th>3</th>\n",
       "      <td>1.0</td>\n",
       "      <td>-0.966272</td>\n",
       "      <td>-0.185226</td>\n",
       "      <td>1.792993</td>\n",
       "      <td>-0.863291</td>\n",
       "      <td>-0.010309</td>\n",
       "      <td>1.247203</td>\n",
       "      <td>0.237609</td>\n",
       "      <td>0.377436</td>\n",
       "      <td>-1.387024</td>\n",
       "      <td>...</td>\n",
       "      <td>-0.108300</td>\n",
       "      <td>0.005274</td>\n",
       "      <td>-0.190321</td>\n",
       "      <td>-1.175575</td>\n",
       "      <td>0.647376</td>\n",
       "      <td>-0.221929</td>\n",
       "      <td>0.062723</td>\n",
       "      <td>0.061458</td>\n",
       "      <td>123.50</td>\n",
       "      <td>0</td>\n",
       "    </tr>\n",
       "    <tr>\n",
       "      <th>4</th>\n",
       "      <td>2.0</td>\n",
       "      <td>-1.158233</td>\n",
       "      <td>0.877737</td>\n",
       "      <td>1.548718</td>\n",
       "      <td>0.403034</td>\n",
       "      <td>-0.407193</td>\n",
       "      <td>0.095921</td>\n",
       "      <td>0.592941</td>\n",
       "      <td>-0.270533</td>\n",
       "      <td>0.817739</td>\n",
       "      <td>...</td>\n",
       "      <td>-0.009431</td>\n",
       "      <td>0.798278</td>\n",
       "      <td>-0.137458</td>\n",
       "      <td>0.141267</td>\n",
       "      <td>-0.206010</td>\n",
       "      <td>0.502292</td>\n",
       "      <td>0.219422</td>\n",
       "      <td>0.215153</td>\n",
       "      <td>69.99</td>\n",
       "      <td>0</td>\n",
       "    </tr>\n",
       "    <tr>\n",
       "      <th>...</th>\n",
       "      <td>...</td>\n",
       "      <td>...</td>\n",
       "      <td>...</td>\n",
       "      <td>...</td>\n",
       "      <td>...</td>\n",
       "      <td>...</td>\n",
       "      <td>...</td>\n",
       "      <td>...</td>\n",
       "      <td>...</td>\n",
       "      <td>...</td>\n",
       "      <td>...</td>\n",
       "      <td>...</td>\n",
       "      <td>...</td>\n",
       "      <td>...</td>\n",
       "      <td>...</td>\n",
       "      <td>...</td>\n",
       "      <td>...</td>\n",
       "      <td>...</td>\n",
       "      <td>...</td>\n",
       "      <td>...</td>\n",
       "      <td>...</td>\n",
       "    </tr>\n",
       "    <tr>\n",
       "      <th>995</th>\n",
       "      <td>751.0</td>\n",
       "      <td>-0.654892</td>\n",
       "      <td>0.608319</td>\n",
       "      <td>1.585102</td>\n",
       "      <td>-3.009429</td>\n",
       "      <td>0.037593</td>\n",
       "      <td>-1.954023</td>\n",
       "      <td>1.335977</td>\n",
       "      <td>-0.612858</td>\n",
       "      <td>0.690254</td>\n",
       "      <td>...</td>\n",
       "      <td>-0.078527</td>\n",
       "      <td>-0.064194</td>\n",
       "      <td>-0.107350</td>\n",
       "      <td>0.961776</td>\n",
       "      <td>-0.067760</td>\n",
       "      <td>-0.549465</td>\n",
       "      <td>-0.232588</td>\n",
       "      <td>-0.108261</td>\n",
       "      <td>3.90</td>\n",
       "      <td>0</td>\n",
       "    </tr>\n",
       "    <tr>\n",
       "      <th>996</th>\n",
       "      <td>752.0</td>\n",
       "      <td>-2.101171</td>\n",
       "      <td>-0.227365</td>\n",
       "      <td>1.624668</td>\n",
       "      <td>-0.291123</td>\n",
       "      <td>1.902446</td>\n",
       "      <td>-1.483921</td>\n",
       "      <td>-0.275117</td>\n",
       "      <td>0.085964</td>\n",
       "      <td>-0.563098</td>\n",
       "      <td>...</td>\n",
       "      <td>-0.313782</td>\n",
       "      <td>-0.804784</td>\n",
       "      <td>-0.474101</td>\n",
       "      <td>0.008102</td>\n",
       "      <td>0.259725</td>\n",
       "      <td>0.032376</td>\n",
       "      <td>0.323580</td>\n",
       "      <td>0.034622</td>\n",
       "      <td>1.78</td>\n",
       "      <td>0</td>\n",
       "    </tr>\n",
       "    <tr>\n",
       "      <th>997</th>\n",
       "      <td>753.0</td>\n",
       "      <td>-1.248163</td>\n",
       "      <td>0.315246</td>\n",
       "      <td>3.708935</td>\n",
       "      <td>0.687280</td>\n",
       "      <td>-0.873071</td>\n",
       "      <td>1.091287</td>\n",
       "      <td>0.297707</td>\n",
       "      <td>-0.633135</td>\n",
       "      <td>1.102317</td>\n",
       "      <td>...</td>\n",
       "      <td>-0.824013</td>\n",
       "      <td>0.057907</td>\n",
       "      <td>-0.282351</td>\n",
       "      <td>0.630774</td>\n",
       "      <td>0.283506</td>\n",
       "      <td>-0.204264</td>\n",
       "      <td>0.097555</td>\n",
       "      <td>-0.670480</td>\n",
       "      <td>30.00</td>\n",
       "      <td>0</td>\n",
       "    </tr>\n",
       "    <tr>\n",
       "      <th>998</th>\n",
       "      <td>755.0</td>\n",
       "      <td>1.374134</td>\n",
       "      <td>-1.767210</td>\n",
       "      <td>-0.433352</td>\n",
       "      <td>-2.229552</td>\n",
       "      <td>0.331135</td>\n",
       "      <td>3.924775</td>\n",
       "      <td>-2.049947</td>\n",
       "      <td>1.001403</td>\n",
       "      <td>-1.183310</td>\n",
       "      <td>...</td>\n",
       "      <td>-0.252942</td>\n",
       "      <td>-0.461534</td>\n",
       "      <td>-0.030890</td>\n",
       "      <td>0.997119</td>\n",
       "      <td>0.384299</td>\n",
       "      <td>-0.187538</td>\n",
       "      <td>0.068817</td>\n",
       "      <td>0.038009</td>\n",
       "      <td>82.37</td>\n",
       "      <td>0</td>\n",
       "    </tr>\n",
       "    <tr>\n",
       "      <th>999</th>\n",
       "      <td>755.0</td>\n",
       "      <td>-2.497436</td>\n",
       "      <td>1.402769</td>\n",
       "      <td>0.184840</td>\n",
       "      <td>-2.504117</td>\n",
       "      <td>-0.111803</td>\n",
       "      <td>-0.902909</td>\n",
       "      <td>0.110183</td>\n",
       "      <td>-3.655788</td>\n",
       "      <td>2.231761</td>\n",
       "      <td>...</td>\n",
       "      <td>2.777155</td>\n",
       "      <td>-0.664909</td>\n",
       "      <td>0.594689</td>\n",
       "      <td>0.330380</td>\n",
       "      <td>0.064190</td>\n",
       "      <td>-0.110533</td>\n",
       "      <td>0.672165</td>\n",
       "      <td>0.114739</td>\n",
       "      <td>8.00</td>\n",
       "      <td>0</td>\n",
       "    </tr>\n",
       "  </tbody>\n",
       "</table>\n",
       "<p>1000 rows × 31 columns</p>\n",
       "</div>"
      ],
      "text/plain": [
       "      Time        V1        V2        V3        V4        V5        V6  \\\n",
       "0      0.0 -1.359807 -0.072781  2.536347  1.378155 -0.338321  0.462388   \n",
       "1      0.0  1.191857  0.266151  0.166480  0.448154  0.060018 -0.082361   \n",
       "2      1.0 -1.358354 -1.340163  1.773209  0.379780 -0.503198  1.800499   \n",
       "3      1.0 -0.966272 -0.185226  1.792993 -0.863291 -0.010309  1.247203   \n",
       "4      2.0 -1.158233  0.877737  1.548718  0.403034 -0.407193  0.095921   \n",
       "..     ...       ...       ...       ...       ...       ...       ...   \n",
       "995  751.0 -0.654892  0.608319  1.585102 -3.009429  0.037593 -1.954023   \n",
       "996  752.0 -2.101171 -0.227365  1.624668 -0.291123  1.902446 -1.483921   \n",
       "997  753.0 -1.248163  0.315246  3.708935  0.687280 -0.873071  1.091287   \n",
       "998  755.0  1.374134 -1.767210 -0.433352 -2.229552  0.331135  3.924775   \n",
       "999  755.0 -2.497436  1.402769  0.184840 -2.504117 -0.111803 -0.902909   \n",
       "\n",
       "           V7        V8        V9  ...       V21       V22       V23  \\\n",
       "0    0.239599  0.098698  0.363787  ... -0.018307  0.277838 -0.110474   \n",
       "1   -0.078803  0.085102 -0.255425  ... -0.225775 -0.638672  0.101288   \n",
       "2    0.791461  0.247676 -1.514654  ...  0.247998  0.771679  0.909412   \n",
       "3    0.237609  0.377436 -1.387024  ... -0.108300  0.005274 -0.190321   \n",
       "4    0.592941 -0.270533  0.817739  ... -0.009431  0.798278 -0.137458   \n",
       "..        ...       ...       ...  ...       ...       ...       ...   \n",
       "995  1.335977 -0.612858  0.690254  ... -0.078527 -0.064194 -0.107350   \n",
       "996 -0.275117  0.085964 -0.563098  ... -0.313782 -0.804784 -0.474101   \n",
       "997  0.297707 -0.633135  1.102317  ... -0.824013  0.057907 -0.282351   \n",
       "998 -2.049947  1.001403 -1.183310  ... -0.252942 -0.461534 -0.030890   \n",
       "999  0.110183 -3.655788  2.231761  ...  2.777155 -0.664909  0.594689   \n",
       "\n",
       "          V24       V25       V26       V27       V28  Amount  Class  \n",
       "0    0.066928  0.128539 -0.189115  0.133558 -0.021053  149.62      0  \n",
       "1   -0.339846  0.167170  0.125895 -0.008983  0.014724    2.69      0  \n",
       "2   -0.689281 -0.327642 -0.139097 -0.055353 -0.059752  378.66      0  \n",
       "3   -1.175575  0.647376 -0.221929  0.062723  0.061458  123.50      0  \n",
       "4    0.141267 -0.206010  0.502292  0.219422  0.215153   69.99      0  \n",
       "..        ...       ...       ...       ...       ...     ...    ...  \n",
       "995  0.961776 -0.067760 -0.549465 -0.232588 -0.108261    3.90      0  \n",
       "996  0.008102  0.259725  0.032376  0.323580  0.034622    1.78      0  \n",
       "997  0.630774  0.283506 -0.204264  0.097555 -0.670480   30.00      0  \n",
       "998  0.997119  0.384299 -0.187538  0.068817  0.038009   82.37      0  \n",
       "999  0.330380  0.064190 -0.110533  0.672165  0.114739    8.00      0  \n",
       "\n",
       "[1000 rows x 31 columns]"
      ]
     },
     "execution_count": 9,
     "metadata": {},
     "output_type": "execute_result"
    }
   ],
   "source": [
    "# imbalanced dataset:\n",
    "df_credit = pd.read_csv('./data/creditcard.csv')\n",
    "df_credit"
   ]
  },
  {
   "cell_type": "code",
   "execution_count": 10,
   "metadata": {},
   "outputs": [
    {
     "data": {
      "text/plain": [
       "array([[ 0.00000000e+00, -1.35980713e+00, -7.27811733e-02, ...,\n",
       "         1.33558377e-01, -2.10530535e-02,  1.49620000e+02],\n",
       "       [ 0.00000000e+00,  1.19185711e+00,  2.66150712e-01, ...,\n",
       "        -8.98309914e-03,  1.47241692e-02,  2.69000000e+00],\n",
       "       [ 1.00000000e+00, -1.35835406e+00, -1.34016307e+00, ...,\n",
       "        -5.53527940e-02, -5.97518406e-02,  3.78660000e+02],\n",
       "       ...,\n",
       "       [ 1.72788000e+05,  1.91956501e+00, -3.01253846e-01, ...,\n",
       "         4.45477214e-03, -2.65608286e-02,  6.78800000e+01],\n",
       "       [ 1.72788000e+05, -2.40440050e-01,  5.30482513e-01, ...,\n",
       "         1.08820735e-01,  1.04532821e-01,  1.00000000e+01],\n",
       "       [ 1.72792000e+05, -5.33412522e-01, -1.89733337e-01, ...,\n",
       "        -2.41530880e-03,  1.36489143e-02,  2.17000000e+02]])"
      ]
     },
     "execution_count": 10,
     "metadata": {},
     "output_type": "execute_result"
    }
   ],
   "source": [
    "X = df_credit.drop(columns=['Class'])\n",
    "X = np.array(X)\n",
    "X"
   ]
  },
  {
   "cell_type": "code",
   "execution_count": 20,
   "metadata": {},
   "outputs": [
    {
     "data": {
      "text/plain": [
       "284807"
      ]
     },
     "execution_count": 20,
     "metadata": {},
     "output_type": "execute_result"
    }
   ],
   "source": [
    "y = df_credit['Class'].values\n",
    "len(y)"
   ]
  },
  {
   "cell_type": "code",
   "execution_count": 22,
   "metadata": {},
   "outputs": [
    {
     "data": {
      "text/plain": [
       "492"
      ]
     },
     "execution_count": 22,
     "metadata": {},
     "output_type": "execute_result"
    }
   ],
   "source": [
    "sum(y == 1)"
   ]
  },
  {
   "cell_type": "code",
   "execution_count": 1,
   "metadata": {},
   "outputs": [
    {
     "ename": "NameError",
     "evalue": "name 'LogisticRegression' is not defined",
     "output_type": "error",
     "traceback": [
      "\u001b[1;31m---------------------------------------------------------------------------\u001b[0m",
      "\u001b[1;31mNameError\u001b[0m                                 Traceback (most recent call last)",
      "\u001b[1;32mc:\\Users\\abal\\OneDrive - ID FINANCE INVESTMENTS S.L\\Desktop\\2_Learning\\ML_Simulator\\ML_Simulator\\3_Middle\\Churn_rate_2\\Churn_rate_2_Bootstrap.ipynb Cell 34\u001b[0m in \u001b[0;36m2\n\u001b[0;32m      <a href='vscode-notebook-cell:/c%3A/Users/abal/OneDrive%20-%20ID%20FINANCE%20INVESTMENTS%20S.L/Desktop/2_Learning/ML_Simulator/ML_Simulator/3_Middle/Churn_rate_2/Churn_rate_2_Bootstrap.ipynb#X45sZmlsZQ%3D%3D?line=0'>1</a>\u001b[0m \u001b[39m# add\u001b[39;00m\n\u001b[1;32m----> <a href='vscode-notebook-cell:/c%3A/Users/abal/OneDrive%20-%20ID%20FINANCE%20INVESTMENTS%20S.L/Desktop/2_Learning/ML_Simulator/ML_Simulator/3_Middle/Churn_rate_2/Churn_rate_2_Bootstrap.ipynb#X45sZmlsZQ%3D%3D?line=1'>2</a>\u001b[0m classifier \u001b[39m=\u001b[39m LogisticRegression(solver\u001b[39m=\u001b[39m\u001b[39m\"\u001b[39m\u001b[39mliblinear\u001b[39m\u001b[39m\"\u001b[39m, random_state\u001b[39m=\u001b[39m\u001b[39m0\u001b[39m)\u001b[39m.\u001b[39mfit(X, y)\n\u001b[0;32m      <a href='vscode-notebook-cell:/c%3A/Users/abal/OneDrive%20-%20ID%20FINANCE%20INVESTMENTS%20S.L/Desktop/2_Learning/ML_Simulator/ML_Simulator/3_Middle/Churn_rate_2/Churn_rate_2_Bootstrap.ipynb#X45sZmlsZQ%3D%3D?line=2'>3</a>\u001b[0m n_bootstraps \u001b[39m=\u001b[39m \u001b[39m1000\u001b[39m\n\u001b[0;32m      <a href='vscode-notebook-cell:/c%3A/Users/abal/OneDrive%20-%20ID%20FINANCE%20INVESTMENTS%20S.L/Desktop/2_Learning/ML_Simulator/ML_Simulator/3_Middle/Churn_rate_2/Churn_rate_2_Bootstrap.ipynb#X45sZmlsZQ%3D%3D?line=4'>5</a>\u001b[0m \u001b[39m# number of records:\u001b[39;00m\n",
      "\u001b[1;31mNameError\u001b[0m: name 'LogisticRegression' is not defined"
     ]
    }
   ],
   "source": [
    "# add\n",
    "classifier = LogisticRegression(solver=\"liblinear\", random_state=0).fit(X, y)\n",
    "n_bootstraps = 1000\n",
    "\n",
    "# number of records:\n",
    "n = len(X)\n",
    "# confidence interval size:\n",
    "conf = 0.95\n",
    "alpha = 1 - conf\n",
    "# generate random subset from initial data n_bootstraps times:\n",
    "bootstrap_scores = []\n",
    "random_indices_list = list(np.random.choice(np.arange(0, n), (n_bootstraps, n), True))\n",
    "counter = 0\n",
    "for random_indices in random_indices_list:\n",
    "    print(f'counter: {counter}')\n",
    "    counter = counter + 1\n",
    "    X_subset = X[random_indices, :]\n",
    "    y_subset = y[random_indices]\n",
    "    # calculate roc_auc_score n_bootstraps times\n",
    "    if len(set(y_subset)) < 2: # otherwise roc_auc is not determined\n",
    "        pass\n",
    "    else:\n",
    "        score_iter = roc_auc_score(y_subset, classifier.predict_proba(X_subset)[:, 1])\n",
    "        bootstrap_scores.append(score_iter)\n",
    "# calculate percentile confidence interval:\n",
    "intervals = []\n",
    "for i in range(100):\n",
    "    conf = i / 100\n",
    "    alpha = 1 - conf\n",
    "    percentile_ci = get_percentile_ci(bootstrap_scores, alpha)\n",
    "    lcb = percentile_ci[0]\n",
    "    ucb = percentile_ci[1]\n",
    "    diff = ucb - lcb\n",
    "    intervals.append((conf, diff))\n",
    "df_plot = pd.DataFrame(intervals, columns=['conf', 'diff'])\n",
    "sns.lineplot(data=df_plot, x='conf', y='diff')"
   ]
  },
  {
   "cell_type": "code",
   "execution_count": null,
   "metadata": {},
   "outputs": [],
   "source": []
  }
 ],
 "metadata": {
  "kernelspec": {
   "display_name": "Python 3",
   "language": "python",
   "name": "python3"
  },
  "language_info": {
   "codemirror_mode": {
    "name": "ipython",
    "version": 3
   },
   "file_extension": ".py",
   "mimetype": "text/x-python",
   "name": "python",
   "nbconvert_exporter": "python",
   "pygments_lexer": "ipython3",
   "version": "3.11.3"
  },
  "orig_nbformat": 4
 },
 "nbformat": 4,
 "nbformat_minor": 2
}
