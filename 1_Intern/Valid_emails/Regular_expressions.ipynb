{
 "cells": [
  {
   "attachments": {},
   "cell_type": "markdown",
   "metadata": {},
   "source": [
    "Regular expressions"
   ]
  },
  {
   "attachments": {},
   "cell_type": "markdown",
   "metadata": {},
   "source": [
    "Are used to find text patterns"
   ]
  },
  {
   "attachments": {},
   "cell_type": "markdown",
   "metadata": {},
   "source": [
    "can help with:\n",
    "- editing code\n",
    "- verifying users input\n",
    "- scrapping web etc"
   ]
  },
  {
   "cell_type": "code",
   "execution_count": null,
   "metadata": {},
   "outputs": [],
   "source": [
    "hello\n",
    "this is a sentence\n",
    "1234\n",
    "test45\n",
    "this is a number 5"
   ]
  },
  {
   "cell_type": "code",
   "execution_count": null,
   "metadata": {},
   "outputs": [],
   "source": [
    "\\d - valid number 0-9\n",
    "\\D - opposite (not a valid number)\n"
   ]
  },
  {
   "attachments": {},
   "cell_type": "markdown",
   "metadata": {},
   "source": [
    "# Verigying a user's e-mail"
   ]
  },
  {
   "cell_type": "code",
   "execution_count": null,
   "metadata": {},
   "outputs": [],
   "source": [
    "import re\n",
    "\n"
   ]
  },
  {
   "attachments": {},
   "cell_type": "markdown",
   "metadata": {},
   "source": [
    "emails:  \n",
    "1st part of email (Uppercase letters or Lowercase letters or numbers):  "
   ]
  },
  {
   "cell_type": "code",
   "execution_count": null,
   "metadata": {},
   "outputs": [],
   "source": [
    "pattern = \"[a-zA-Z0-9]\""
   ]
  },
  {
   "attachments": {},
   "cell_type": "markdown",
   "metadata": {},
   "source": [
    "[] brackets allow to specify that we are looking for a characters in a given group. This group starts at the beginning of the word and ends when we encounter at @ symbol"
   ]
  },
  {
   "cell_type": "code",
   "execution_count": 1,
   "metadata": {},
   "outputs": [],
   "source": [
    "pattern = \"[a-zA-Z0-9]+@\""
   ]
  },
  {
   "attachments": {},
   "cell_type": "markdown",
   "metadata": {},
   "source": [
    "+@ means that we are looking at one or more of @ character"
   ]
  },
  {
   "cell_type": "code",
   "execution_count": 2,
   "metadata": {},
   "outputs": [],
   "source": [
    "pattern = \"[a-zA-Z0-9]+@[a-zA-Z]\""
   ]
  },
  {
   "attachments": {},
   "cell_type": "markdown",
   "metadata": {},
   "source": [
    "since emails can contain many different domains, we search for any combination of letters, till . symbol"
   ]
  },
  {
   "cell_type": "code",
   "execution_count": 3,
   "metadata": {},
   "outputs": [],
   "source": [
    "pattern = \"[a-zA-Z0-9]+@[a-zA-Z]+\\.\""
   ]
  },
  {
   "attachments": {},
   "cell_type": "markdown",
   "metadata": {},
   "source": [
    "\" back slash .\" means literally \"Dot\""
   ]
  },
  {
   "cell_type": "code",
   "execution_count": 4,
   "metadata": {},
   "outputs": [],
   "source": [
    "import re\n",
    "from typing import List\n",
    "\n",
    "\n",
    "\n",
    "\n",
    "def valid_emails(strings: List[str]) -> List[str]:\n",
    "    \"\"\"Take list of potential emails and returns only valid ones\"\"\"\n",
    "    valid_email_regex = r\"^\\S+@\\S+\\.\\S+$\"\n",
    "\n",
    "    emails = []\n",
    "    for email in strings:\n",
    "        if re.search(valid_email_regex, email):\n",
    "            emails.append(email)\n",
    "\n",
    "    return emails\n",
    "\n"
   ]
  },
  {
   "attachments": {},
   "cell_type": "markdown",
   "metadata": {},
   "source": [
    "When we use regular expressions many times, it is compiled every time, which slows down the process"
   ]
  },
  {
   "cell_type": "code",
   "execution_count": 5,
   "metadata": {},
   "outputs": [
    {
     "name": "stdout",
     "output_type": "stream",
     "text": [
      "example1@mail.com\n",
      "example2@mail.com\n"
     ]
    }
   ],
   "source": [
    "different_emails = [\n",
    "    'example1@mail.com',\n",
    "    'example2@mail.com',\n",
    "]\n",
    "for one_email in different_emails:\n",
    "    m = re.search('^\\S+@\\S+\\.\\S+$', one_email)\n",
    "    if m:\n",
    "        print(one_email)"
   ]
  },
  {
   "attachments": {},
   "cell_type": "markdown",
   "metadata": {},
   "source": [
    "how we can make usage of regular expressions more efficient?  \n",
    "we can compile it ones:"
   ]
  },
  {
   "cell_type": "code",
   "execution_count": 6,
   "metadata": {},
   "outputs": [
    {
     "name": "stdout",
     "output_type": "stream",
     "text": [
      "example1@mail.com\n",
      "example2@mail.com\n"
     ]
    }
   ],
   "source": [
    "different_emails = [\n",
    "    'example1@mail.com',\n",
    "    'example2@mail.com',\n",
    "]\n",
    "\n",
    "regular_expression_object = re.compile('^\\S+@\\S+\\.\\S+$')\n",
    "\n",
    "for one_email in different_emails:\n",
    "    m = regular_expression_object.search(one_email)\n",
    "    if m:\n",
    "        print(one_email)"
   ]
  },
  {
   "cell_type": "code",
   "execution_count": null,
   "metadata": {},
   "outputs": [],
   "source": []
  }
 ],
 "metadata": {
  "kernelspec": {
   "display_name": "Python 3",
   "language": "python",
   "name": "python3"
  },
  "language_info": {
   "codemirror_mode": {
    "name": "ipython",
    "version": 3
   },
   "file_extension": ".py",
   "mimetype": "text/x-python",
   "name": "python",
   "nbconvert_exporter": "python",
   "pygments_lexer": "ipython3",
   "version": "3.11.1"
  },
  "orig_nbformat": 4
 },
 "nbformat": 4,
 "nbformat_minor": 2
}
