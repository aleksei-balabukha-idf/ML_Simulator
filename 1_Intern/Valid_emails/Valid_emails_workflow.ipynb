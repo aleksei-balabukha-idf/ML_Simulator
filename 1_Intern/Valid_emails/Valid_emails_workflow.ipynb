{
 "cells": [
  {
   "attachments": {},
   "cell_type": "markdown",
   "metadata": {},
   "source": [
    "Task:\n",
    "Your team needs to create service for automatic verification of bots and DDoS attacks prevention.\n",
    "For registration on web site users need to provide email address.\n",
    "Not always specific set of symbols is a valid email.\n",
    "Your colleague need to manage this small task and in the result Python code (initial.py) was created\n",
    "\n",
    "This code works well. However, you Team Lead said that this code can be optimized, so that it will works 2 times faster:\n",
    "https://docs.python.org/3/library/re.html"
   ]
  },
  {
   "cell_type": "markdown",
   "metadata": {},
   "source": []
  }
 ],
 "metadata": {
  "language_info": {
   "name": "python"
  },
  "orig_nbformat": 4
 },
 "nbformat": 4,
 "nbformat_minor": 2
}
